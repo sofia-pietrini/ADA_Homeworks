{
 "cells": [
  {
   "cell_type": "markdown",
   "id": "2e3596fb",
   "metadata": {
    "tags": [
     "remove_cell"
    ]
   },
   "source": [
    "jupyter nbconvert prova.ipynb --to pdf --TagRemovePreprocessor.enabled=True --TagRemovePreprocessor.remove_cell_tags=\"['remove_cell']\""
   ]
  },
  {
   "cell_type": "markdown",
   "id": "383e78f4",
   "metadata": {},
   "source": [
    "# Introduction\n",
    "\n",
    "In this homework we will analyze data coming from a gene expression dataset of 79 patients with leukemia belonging to two subgroups: patients with a chromosomal translocation (\"1\") and patients cytogenetically normal (\"-1\"). The `gene_expr.tsv` file contains expression for 2,000 genes and additional columns with patient labels and the outcome variable (`y`). The aim is to perform a supervised analysis for prediction of the subgroups using support vector machines."
   ]
  },
  {
   "cell_type": "code",
   "execution_count": 1,
   "id": "3dee671a",
   "metadata": {
    "tags": [
     "remove_cell"
    ]
   },
   "outputs": [],
   "source": [
    "# support libraries\n",
    "import numpy as np\n",
    "from matplotlib import pyplot as plt  # import subplots, cm\n",
    "import sklearn.model_selection as skm\n",
    "import pandas as pd\n",
    "from ISLP import load_data, confusion_table\n",
    "\n",
    "# lab-specific libraries\n",
    "from sklearn.svm import SVC\n",
    "from sklearn.metrics import RocCurveDisplay\n",
    "from sklearn.decomposition import PCA\n",
    "from sklearn.model_selection import GridSearchCV\n",
    "from ISLP.svm import plot as plot_svm"
   ]
  },
  {
   "cell_type": "markdown",
   "id": "e32edf89",
   "metadata": {},
   "source": [
    "# Methods\n",
    "\n",
    "To classify leukemia subgroups based on gene expression, the following machine learning techniques and evaluation strategies were employed:\n",
    "\n",
    "• **Cross-validation (CV)**: K-fold cross-validation was used to obtain robust performance estimates and prevent overfitting. This technique systematically partitions the data into training and validation sets. It was combined with grid search to optimize key hyperparameters for each SVM model type (regularization parameter *C*, *gamma* for RBF, and *degree* for polynomial)    \n",
    "\n",
    "• **Linear support vector machine (SVM)**: This algorithm seeks the optimal **linear boundary** (hyperplane) in the high-dimensional feature space to separate the two patient classes. It aims to maximize the margin between the hyperplane and the nearest data points (support vectors) of each class.    \n",
    "\n",
    "• **Radial basis function (RBF) SVM**: A **non-linear** SVM utilizing the RBF kernel. It implicitly maps data into a higher-dimensional space, enabling the creation of complex, curved decision boundaries. Suitable for datasets where classes are not linearly separable in the original space.   \n",
    "\n",
    "• **Polynomial SVM**: This **non-linear** SVM employs a polynomial kernel function. It maps the input data into a higher-dimensional feature space, allowing it to find polynomial decision boundaries between classes. The degree of the polynomial controls the flexibility of the boundary.\n",
    "\n",
    "• **Principal component analysis (PCA)**: An unsupervised dimensionality reduction technique used to transform the high-dimensional gene expression data. It identifies principal components (linear combinations of original genes) that capture the maximum variance, facilitating visualization and potentially simplifying classification tasks."
   ]
  },
  {
   "cell_type": "markdown",
   "id": "d75587dd",
   "metadata": {},
   "source": [
    "# Data exploration and pre-processing\n",
    "\n",
    "As expected, the dataset consists of 79 rows, each representing a patient, and 2002 columns, including expression measurements for 2000 genes along with two additional columns for patient labels and the outcome variable. The structure of the dataset remains unmodified, as there are no missing values that require imputation or removal.\n",
    "\n"
   ]
  },
  {
   "cell_type": "code",
   "execution_count": 2,
   "id": "130c3938",
   "metadata": {},
   "outputs": [
    {
     "data": {
      "text/plain": [
       "(79, 2002)"
      ]
     },
     "execution_count": 2,
     "metadata": {},
     "output_type": "execute_result"
    }
   ],
   "source": [
    "dataf = pd.read_csv('gene_expr.tsv', sep='\\t') #read tsv file\n",
    "dataf.shape #check data set dimension"
   ]
  },
  {
   "cell_type": "code",
   "execution_count": 3,
   "id": "5fa642c7",
   "metadata": {},
   "outputs": [
    {
     "data": {
      "text/plain": [
       "False"
      ]
     },
     "execution_count": 3,
     "metadata": {},
     "output_type": "execute_result"
    }
   ],
   "source": [
    "dataf.isnull().values.any() #check for any missing value"
   ]
  },
  {
   "cell_type": "markdown",
   "id": "78ab67d6",
   "metadata": {},
   "source": [
    "Given the nature of gene expression data, it is not unusual to observe a high dimensionality, with the number of features far exceeding the number of observations. While this characteristic can facilitate the identification of hyperplanes that effectively separate classes, it poses significant challenges for data visualization. Visualizing high-dimensional data typically necessitates dimensionality reduction techniques such as **Principal Component Analysis (PCA)**. However, by choosing not to apply these techniques, we will likely not be able to visually explore the data distribution and the hyperplanes derived from subsequent analyses."
   ]
  },
  {
   "cell_type": "markdown",
   "id": "dc6468e1",
   "metadata": {},
   "source": [
    "# Linear support vector machine\n",
    "To predict the presence or absence of the specific chromosomal feature via supervised learning, we employ SVMs. A **key consideration** is the dataset's high dimensionality (79 samples, 2000 genes). In such high-dimensional spaces, data points are often more easily separated by a linear boundary. Consequently, a linear SVM kernel is hypothesized to be effective, potentially avoiding the need for more complex RBF or polynomial kernels. This section focuses on implementing and evaluating the linear SVM. Later sections will compare its performance against the non-linear alternatives.  \n",
    "\n",
    "As a first step, we partition the data into the feature matrix X (gene expressions) and the target vector y, which comprised 42 samples labeled *-1* and 37 samples labeled *1*, denoting the balance of the data set with respect to the outcome variable."
   ]
  },
  {
   "cell_type": "code",
   "execution_count": 4,
   "id": "52d0305c",
   "metadata": {},
   "outputs": [
    {
     "data": {
      "text/plain": [
       "(79, 2000)"
      ]
     },
     "execution_count": 4,
     "metadata": {},
     "output_type": "execute_result"
    }
   ],
   "source": [
    "y = dataf['y'] #select only the column of outcome variable\n",
    "X = dataf.drop(columns=['y', 'sampleID'], axis=1) #drop the additional columns of outcome variable and patient labels\n",
    "X.shape"
   ]
  },
  {
   "cell_type": "code",
   "execution_count": 5,
   "id": "0203ded0",
   "metadata": {},
   "outputs": [
    {
     "data": {
      "text/plain": [
       "y\n",
       "-1    42\n",
       " 1    37\n",
       "Name: count, dtype: int64"
      ]
     },
     "execution_count": 5,
     "metadata": {},
     "output_type": "execute_result"
    }
   ],
   "source": [
    "y.value_counts()"
   ]
  },
  {
   "cell_type": "markdown",
   "id": "e988f0b1",
   "metadata": {},
   "source": [
    "Subsequently, the dataset *(both features X and target y)* was manually divided into training and testing sets using an approximate 50/50 split, this splitting process is required to build the confusion matrix and the ROC curve. This resulted in a training set *(X_train, y_train)* containing 39 observations, comprising 21 samples labeled *-1* and 18 samples labeled *1*. The remaining 40 observations were allocated to the test set."
   ]
  },
  {
   "cell_type": "code",
   "execution_count": 6,
   "id": "b863cbdb",
   "metadata": {},
   "outputs": [
    {
     "data": {
      "text/plain": [
       "(39, 2000)"
      ]
     },
     "execution_count": 6,
     "metadata": {},
     "output_type": "execute_result"
    }
   ],
   "source": [
    "#manual split of test set and training set using skm\n",
    "X_train, X_test, y_train, y_test = skm.train_test_split(X, y, test_size=0.5, random_state=0)\n",
    "X_train.shape"
   ]
  },
  {
   "cell_type": "code",
   "execution_count": 7,
   "id": "6f7a9cff",
   "metadata": {},
   "outputs": [
    {
     "data": {
      "text/plain": [
       "y\n",
       " 1    21\n",
       "-1    18\n",
       "Name: count, dtype: int64"
      ]
     },
     "execution_count": 7,
     "metadata": {},
     "output_type": "execute_result"
    }
   ],
   "source": [
    "y_train.value_counts()"
   ]
  },
  {
   "cell_type": "markdown",
   "id": "d4745f42",
   "metadata": {},
   "source": [
    "We proceed by fitting the linear SVM model *(kernel='linear')*. For this initial fit, the regularization parameter C is set to a placeholder, as its optimal value will be determined later through a dedicated hyperparameter tuning process (cross-validation)."
   ]
  },
  {
   "cell_type": "code",
   "execution_count": 8,
   "id": "0c2f5c28",
   "metadata": {},
   "outputs": [],
   "source": [
    "svm_linear = SVC(C=10, kernel=\"linear\") "
   ]
  },
  {
   "cell_type": "markdown",
   "id": "51923498",
   "metadata": {},
   "source": [
    "We applied 10-fold cross-validation to tune the regularization parameter 𝐶 of the linear SVM.\\\n",
    "In the `scikit-learn` library, cross-validation is managed using splitter generators from the `model_selection` submodule, such as the `KFold(n_splits)` class, which implements K-Fold cross-validation.\\\n",
    "To perform an exhaustive search over parameter values, we used the `GridSearchCV(model, param_grid, cv, ...)` function, which integrates cross-validation into the grid search process.\\\n",
    "By testing a pre-selected range of values, we were able to access the cross-validation metrics for each of the models stored in the attribute `grid.cv_results_`."
   ]
  },
  {
   "cell_type": "code",
   "execution_count": 9,
   "id": "ad6698b1",
   "metadata": {},
   "outputs": [
    {
     "data": {
      "text/plain": [
       "{'mean_fit_time': array([0.02060578, 0.01950223, 0.02177954, 0.02372053, 0.02229166,\n",
       "        0.01830826, 0.02077641, 0.02009282, 0.02246485]),\n",
       " 'std_fit_time': array([0.00457592, 0.00376761, 0.00376833, 0.00385168, 0.00512067,\n",
       "        0.00226909, 0.00470087, 0.00425669, 0.0051933 ]),\n",
       " 'mean_score_time': array([0.01439521, 0.0138526 , 0.01677954, 0.01751201, 0.01465144,\n",
       "        0.01640601, 0.01513033, 0.0127281 , 0.01432667]),\n",
       " 'std_score_time': array([0.00411534, 0.00395134, 0.00364852, 0.00394364, 0.00454874,\n",
       "        0.00597601, 0.00579666, 0.00320969, 0.00481997]),\n",
       " 'param_C': masked_array(data=[0.0001, 0.001, 0.01, 0.1, 1.0, 10.0, 100.0, 1000.0,\n",
       "                    10000.0],\n",
       "              mask=[False, False, False, False, False, False, False, False,\n",
       "                    False],\n",
       "        fill_value=1e+20),\n",
       " 'params': [{'C': 0.0001},\n",
       "  {'C': 0.001},\n",
       "  {'C': 0.01},\n",
       "  {'C': 0.1},\n",
       "  {'C': 1},\n",
       "  {'C': 10},\n",
       "  {'C': 100},\n",
       "  {'C': 1000.0},\n",
       "  {'C': 10000.0}],\n",
       " 'split0_test_score': array([0.125, 0.875, 0.75 , 0.75 , 0.75 , 0.75 , 0.75 , 0.75 , 0.75 ]),\n",
       " 'split1_test_score': array([0.5, 1. , 1. , 1. , 1. , 1. , 1. , 1. , 1. ]),\n",
       " 'split2_test_score': array([0.5  , 0.875, 0.875, 0.875, 0.875, 0.875, 0.875, 0.875, 0.875]),\n",
       " 'split3_test_score': array([0.625, 0.75 , 0.875, 1.   , 1.   , 1.   , 1.   , 1.   , 1.   ]),\n",
       " 'split4_test_score': array([0.5  , 0.875, 0.875, 0.875, 0.875, 0.875, 0.875, 0.875, 0.875]),\n",
       " 'split5_test_score': array([0.625, 0.75 , 0.625, 0.625, 0.625, 0.625, 0.625, 0.625, 0.625]),\n",
       " 'split6_test_score': array([0.25 , 0.875, 0.875, 0.875, 0.875, 0.875, 0.875, 0.875, 0.875]),\n",
       " 'split7_test_score': array([0.5  , 0.875, 0.875, 0.875, 0.875, 0.875, 0.875, 0.875, 0.875]),\n",
       " 'split8_test_score': array([0.375, 0.375, 0.75 , 0.75 , 0.75 , 0.75 , 0.75 , 0.75 , 0.75 ]),\n",
       " 'split9_test_score': array([0.57142857, 0.71428571, 1.        , 1.        , 1.        ,\n",
       "        1.        , 1.        , 1.        , 1.        ]),\n",
       " 'mean_test_score': array([0.45714286, 0.79642857, 0.85      , 0.8625    , 0.8625    ,\n",
       "        0.8625    , 0.8625    , 0.8625    , 0.8625    ]),\n",
       " 'std_test_score': array([0.15386185, 0.16154547, 0.10897247, 0.11792476, 0.11792476,\n",
       "        0.11792476, 0.11792476, 0.11792476, 0.11792476]),\n",
       " 'rank_test_score': array([9, 8, 7, 1, 1, 1, 1, 1, 1])}"
      ]
     },
     "execution_count": 9,
     "metadata": {},
     "output_type": "execute_result"
    }
   ],
   "source": [
    "C_values = [1e-4, 1e-3, 0.01, 0.1, 1, 10, 100, 1e3, 1e4]\n",
    "#create a ten folds cross validation object\n",
    "kfold = skm.KFold(10, random_state=0, shuffle=True)\n",
    "#create the gridsearch\n",
    "grid = skm.GridSearchCV(svm_linear,\n",
    "                        {\"C\": C_values},\n",
    "                        cv=kfold,\n",
    "                        scoring=\"accuracy\") #scoring = how to measure the performance to pick the best one\n",
    "grid.fit(X,y)\n",
    "#access the cross-validation results (here the output will be truncated)\n",
    "grid.cv_results_"
   ]
  },
  {
   "cell_type": "markdown",
   "id": "98a5fdf1",
   "metadata": {},
   "source": [
    "The performance of each model is quantified in terms of accuracy that one could extract by using `grid.cv_results_[\"mean_test_score\"]`.\\\n",
    "As shown above, by looking at the attribute `mean_test_score` we can see how `C=0.1` results in the highest cross-validation accuracy of 0.8625. However, the accuracy is the same for every pre-selected value of `C` greater or equal than 0.1.\\ We proceeded by extracting programmatically the best model, corresponding to the optimal `C` value, stored in the attribute `best_estimator_`. "
   ]
  },
  {
   "cell_type": "code",
   "execution_count": 10,
   "id": "2879a741",
   "metadata": {},
   "outputs": [
    {
     "data": {
      "text/html": [
       "<style>#sk-container-id-1 {\n",
       "  /* Definition of color scheme common for light and dark mode */\n",
       "  --sklearn-color-text: black;\n",
       "  --sklearn-color-line: gray;\n",
       "  /* Definition of color scheme for unfitted estimators */\n",
       "  --sklearn-color-unfitted-level-0: #fff5e6;\n",
       "  --sklearn-color-unfitted-level-1: #f6e4d2;\n",
       "  --sklearn-color-unfitted-level-2: #ffe0b3;\n",
       "  --sklearn-color-unfitted-level-3: chocolate;\n",
       "  /* Definition of color scheme for fitted estimators */\n",
       "  --sklearn-color-fitted-level-0: #f0f8ff;\n",
       "  --sklearn-color-fitted-level-1: #d4ebff;\n",
       "  --sklearn-color-fitted-level-2: #b3dbfd;\n",
       "  --sklearn-color-fitted-level-3: cornflowerblue;\n",
       "\n",
       "  /* Specific color for light theme */\n",
       "  --sklearn-color-text-on-default-background: var(--sg-text-color, var(--theme-code-foreground, var(--jp-content-font-color1, black)));\n",
       "  --sklearn-color-background: var(--sg-background-color, var(--theme-background, var(--jp-layout-color0, white)));\n",
       "  --sklearn-color-border-box: var(--sg-text-color, var(--theme-code-foreground, var(--jp-content-font-color1, black)));\n",
       "  --sklearn-color-icon: #696969;\n",
       "\n",
       "  @media (prefers-color-scheme: dark) {\n",
       "    /* Redefinition of color scheme for dark theme */\n",
       "    --sklearn-color-text-on-default-background: var(--sg-text-color, var(--theme-code-foreground, var(--jp-content-font-color1, white)));\n",
       "    --sklearn-color-background: var(--sg-background-color, var(--theme-background, var(--jp-layout-color0, #111)));\n",
       "    --sklearn-color-border-box: var(--sg-text-color, var(--theme-code-foreground, var(--jp-content-font-color1, white)));\n",
       "    --sklearn-color-icon: #878787;\n",
       "  }\n",
       "}\n",
       "\n",
       "#sk-container-id-1 {\n",
       "  color: var(--sklearn-color-text);\n",
       "}\n",
       "\n",
       "#sk-container-id-1 pre {\n",
       "  padding: 0;\n",
       "}\n",
       "\n",
       "#sk-container-id-1 input.sk-hidden--visually {\n",
       "  border: 0;\n",
       "  clip: rect(1px 1px 1px 1px);\n",
       "  clip: rect(1px, 1px, 1px, 1px);\n",
       "  height: 1px;\n",
       "  margin: -1px;\n",
       "  overflow: hidden;\n",
       "  padding: 0;\n",
       "  position: absolute;\n",
       "  width: 1px;\n",
       "}\n",
       "\n",
       "#sk-container-id-1 div.sk-dashed-wrapped {\n",
       "  border: 1px dashed var(--sklearn-color-line);\n",
       "  margin: 0 0.4em 0.5em 0.4em;\n",
       "  box-sizing: border-box;\n",
       "  padding-bottom: 0.4em;\n",
       "  background-color: var(--sklearn-color-background);\n",
       "}\n",
       "\n",
       "#sk-container-id-1 div.sk-container {\n",
       "  /* jupyter's `normalize.less` sets `[hidden] { display: none; }`\n",
       "     but bootstrap.min.css set `[hidden] { display: none !important; }`\n",
       "     so we also need the `!important` here to be able to override the\n",
       "     default hidden behavior on the sphinx rendered scikit-learn.org.\n",
       "     See: https://github.com/scikit-learn/scikit-learn/issues/21755 */\n",
       "  display: inline-block !important;\n",
       "  position: relative;\n",
       "}\n",
       "\n",
       "#sk-container-id-1 div.sk-text-repr-fallback {\n",
       "  display: none;\n",
       "}\n",
       "\n",
       "div.sk-parallel-item,\n",
       "div.sk-serial,\n",
       "div.sk-item {\n",
       "  /* draw centered vertical line to link estimators */\n",
       "  background-image: linear-gradient(var(--sklearn-color-text-on-default-background), var(--sklearn-color-text-on-default-background));\n",
       "  background-size: 2px 100%;\n",
       "  background-repeat: no-repeat;\n",
       "  background-position: center center;\n",
       "}\n",
       "\n",
       "/* Parallel-specific style estimator block */\n",
       "\n",
       "#sk-container-id-1 div.sk-parallel-item::after {\n",
       "  content: \"\";\n",
       "  width: 100%;\n",
       "  border-bottom: 2px solid var(--sklearn-color-text-on-default-background);\n",
       "  flex-grow: 1;\n",
       "}\n",
       "\n",
       "#sk-container-id-1 div.sk-parallel {\n",
       "  display: flex;\n",
       "  align-items: stretch;\n",
       "  justify-content: center;\n",
       "  background-color: var(--sklearn-color-background);\n",
       "  position: relative;\n",
       "}\n",
       "\n",
       "#sk-container-id-1 div.sk-parallel-item {\n",
       "  display: flex;\n",
       "  flex-direction: column;\n",
       "}\n",
       "\n",
       "#sk-container-id-1 div.sk-parallel-item:first-child::after {\n",
       "  align-self: flex-end;\n",
       "  width: 50%;\n",
       "}\n",
       "\n",
       "#sk-container-id-1 div.sk-parallel-item:last-child::after {\n",
       "  align-self: flex-start;\n",
       "  width: 50%;\n",
       "}\n",
       "\n",
       "#sk-container-id-1 div.sk-parallel-item:only-child::after {\n",
       "  width: 0;\n",
       "}\n",
       "\n",
       "/* Serial-specific style estimator block */\n",
       "\n",
       "#sk-container-id-1 div.sk-serial {\n",
       "  display: flex;\n",
       "  flex-direction: column;\n",
       "  align-items: center;\n",
       "  background-color: var(--sklearn-color-background);\n",
       "  padding-right: 1em;\n",
       "  padding-left: 1em;\n",
       "}\n",
       "\n",
       "\n",
       "/* Toggleable style: style used for estimator/Pipeline/ColumnTransformer box that is\n",
       "clickable and can be expanded/collapsed.\n",
       "- Pipeline and ColumnTransformer use this feature and define the default style\n",
       "- Estimators will overwrite some part of the style using the `sk-estimator` class\n",
       "*/\n",
       "\n",
       "/* Pipeline and ColumnTransformer style (default) */\n",
       "\n",
       "#sk-container-id-1 div.sk-toggleable {\n",
       "  /* Default theme specific background. It is overwritten whether we have a\n",
       "  specific estimator or a Pipeline/ColumnTransformer */\n",
       "  background-color: var(--sklearn-color-background);\n",
       "}\n",
       "\n",
       "/* Toggleable label */\n",
       "#sk-container-id-1 label.sk-toggleable__label {\n",
       "  cursor: pointer;\n",
       "  display: block;\n",
       "  width: 100%;\n",
       "  margin-bottom: 0;\n",
       "  padding: 0.5em;\n",
       "  box-sizing: border-box;\n",
       "  text-align: center;\n",
       "}\n",
       "\n",
       "#sk-container-id-1 label.sk-toggleable__label-arrow:before {\n",
       "  /* Arrow on the left of the label */\n",
       "  content: \"▸\";\n",
       "  float: left;\n",
       "  margin-right: 0.25em;\n",
       "  color: var(--sklearn-color-icon);\n",
       "}\n",
       "\n",
       "#sk-container-id-1 label.sk-toggleable__label-arrow:hover:before {\n",
       "  color: var(--sklearn-color-text);\n",
       "}\n",
       "\n",
       "/* Toggleable content - dropdown */\n",
       "\n",
       "#sk-container-id-1 div.sk-toggleable__content {\n",
       "  max-height: 0;\n",
       "  max-width: 0;\n",
       "  overflow: hidden;\n",
       "  text-align: left;\n",
       "  /* unfitted */\n",
       "  background-color: var(--sklearn-color-unfitted-level-0);\n",
       "}\n",
       "\n",
       "#sk-container-id-1 div.sk-toggleable__content.fitted {\n",
       "  /* fitted */\n",
       "  background-color: var(--sklearn-color-fitted-level-0);\n",
       "}\n",
       "\n",
       "#sk-container-id-1 div.sk-toggleable__content pre {\n",
       "  margin: 0.2em;\n",
       "  border-radius: 0.25em;\n",
       "  color: var(--sklearn-color-text);\n",
       "  /* unfitted */\n",
       "  background-color: var(--sklearn-color-unfitted-level-0);\n",
       "}\n",
       "\n",
       "#sk-container-id-1 div.sk-toggleable__content.fitted pre {\n",
       "  /* unfitted */\n",
       "  background-color: var(--sklearn-color-fitted-level-0);\n",
       "}\n",
       "\n",
       "#sk-container-id-1 input.sk-toggleable__control:checked~div.sk-toggleable__content {\n",
       "  /* Expand drop-down */\n",
       "  max-height: 200px;\n",
       "  max-width: 100%;\n",
       "  overflow: auto;\n",
       "}\n",
       "\n",
       "#sk-container-id-1 input.sk-toggleable__control:checked~label.sk-toggleable__label-arrow:before {\n",
       "  content: \"▾\";\n",
       "}\n",
       "\n",
       "/* Pipeline/ColumnTransformer-specific style */\n",
       "\n",
       "#sk-container-id-1 div.sk-label input.sk-toggleable__control:checked~label.sk-toggleable__label {\n",
       "  color: var(--sklearn-color-text);\n",
       "  background-color: var(--sklearn-color-unfitted-level-2);\n",
       "}\n",
       "\n",
       "#sk-container-id-1 div.sk-label.fitted input.sk-toggleable__control:checked~label.sk-toggleable__label {\n",
       "  background-color: var(--sklearn-color-fitted-level-2);\n",
       "}\n",
       "\n",
       "/* Estimator-specific style */\n",
       "\n",
       "/* Colorize estimator box */\n",
       "#sk-container-id-1 div.sk-estimator input.sk-toggleable__control:checked~label.sk-toggleable__label {\n",
       "  /* unfitted */\n",
       "  background-color: var(--sklearn-color-unfitted-level-2);\n",
       "}\n",
       "\n",
       "#sk-container-id-1 div.sk-estimator.fitted input.sk-toggleable__control:checked~label.sk-toggleable__label {\n",
       "  /* fitted */\n",
       "  background-color: var(--sklearn-color-fitted-level-2);\n",
       "}\n",
       "\n",
       "#sk-container-id-1 div.sk-label label.sk-toggleable__label,\n",
       "#sk-container-id-1 div.sk-label label {\n",
       "  /* The background is the default theme color */\n",
       "  color: var(--sklearn-color-text-on-default-background);\n",
       "}\n",
       "\n",
       "/* On hover, darken the color of the background */\n",
       "#sk-container-id-1 div.sk-label:hover label.sk-toggleable__label {\n",
       "  color: var(--sklearn-color-text);\n",
       "  background-color: var(--sklearn-color-unfitted-level-2);\n",
       "}\n",
       "\n",
       "/* Label box, darken color on hover, fitted */\n",
       "#sk-container-id-1 div.sk-label.fitted:hover label.sk-toggleable__label.fitted {\n",
       "  color: var(--sklearn-color-text);\n",
       "  background-color: var(--sklearn-color-fitted-level-2);\n",
       "}\n",
       "\n",
       "/* Estimator label */\n",
       "\n",
       "#sk-container-id-1 div.sk-label label {\n",
       "  font-family: monospace;\n",
       "  font-weight: bold;\n",
       "  display: inline-block;\n",
       "  line-height: 1.2em;\n",
       "}\n",
       "\n",
       "#sk-container-id-1 div.sk-label-container {\n",
       "  text-align: center;\n",
       "}\n",
       "\n",
       "/* Estimator-specific */\n",
       "#sk-container-id-1 div.sk-estimator {\n",
       "  font-family: monospace;\n",
       "  border: 1px dotted var(--sklearn-color-border-box);\n",
       "  border-radius: 0.25em;\n",
       "  box-sizing: border-box;\n",
       "  margin-bottom: 0.5em;\n",
       "  /* unfitted */\n",
       "  background-color: var(--sklearn-color-unfitted-level-0);\n",
       "}\n",
       "\n",
       "#sk-container-id-1 div.sk-estimator.fitted {\n",
       "  /* fitted */\n",
       "  background-color: var(--sklearn-color-fitted-level-0);\n",
       "}\n",
       "\n",
       "/* on hover */\n",
       "#sk-container-id-1 div.sk-estimator:hover {\n",
       "  /* unfitted */\n",
       "  background-color: var(--sklearn-color-unfitted-level-2);\n",
       "}\n",
       "\n",
       "#sk-container-id-1 div.sk-estimator.fitted:hover {\n",
       "  /* fitted */\n",
       "  background-color: var(--sklearn-color-fitted-level-2);\n",
       "}\n",
       "\n",
       "/* Specification for estimator info (e.g. \"i\" and \"?\") */\n",
       "\n",
       "/* Common style for \"i\" and \"?\" */\n",
       "\n",
       ".sk-estimator-doc-link,\n",
       "a:link.sk-estimator-doc-link,\n",
       "a:visited.sk-estimator-doc-link {\n",
       "  float: right;\n",
       "  font-size: smaller;\n",
       "  line-height: 1em;\n",
       "  font-family: monospace;\n",
       "  background-color: var(--sklearn-color-background);\n",
       "  border-radius: 1em;\n",
       "  height: 1em;\n",
       "  width: 1em;\n",
       "  text-decoration: none !important;\n",
       "  margin-left: 1ex;\n",
       "  /* unfitted */\n",
       "  border: var(--sklearn-color-unfitted-level-1) 1pt solid;\n",
       "  color: var(--sklearn-color-unfitted-level-1);\n",
       "}\n",
       "\n",
       ".sk-estimator-doc-link.fitted,\n",
       "a:link.sk-estimator-doc-link.fitted,\n",
       "a:visited.sk-estimator-doc-link.fitted {\n",
       "  /* fitted */\n",
       "  border: var(--sklearn-color-fitted-level-1) 1pt solid;\n",
       "  color: var(--sklearn-color-fitted-level-1);\n",
       "}\n",
       "\n",
       "/* On hover */\n",
       "div.sk-estimator:hover .sk-estimator-doc-link:hover,\n",
       ".sk-estimator-doc-link:hover,\n",
       "div.sk-label-container:hover .sk-estimator-doc-link:hover,\n",
       ".sk-estimator-doc-link:hover {\n",
       "  /* unfitted */\n",
       "  background-color: var(--sklearn-color-unfitted-level-3);\n",
       "  color: var(--sklearn-color-background);\n",
       "  text-decoration: none;\n",
       "}\n",
       "\n",
       "div.sk-estimator.fitted:hover .sk-estimator-doc-link.fitted:hover,\n",
       ".sk-estimator-doc-link.fitted:hover,\n",
       "div.sk-label-container:hover .sk-estimator-doc-link.fitted:hover,\n",
       ".sk-estimator-doc-link.fitted:hover {\n",
       "  /* fitted */\n",
       "  background-color: var(--sklearn-color-fitted-level-3);\n",
       "  color: var(--sklearn-color-background);\n",
       "  text-decoration: none;\n",
       "}\n",
       "\n",
       "/* Span, style for the box shown on hovering the info icon */\n",
       ".sk-estimator-doc-link span {\n",
       "  display: none;\n",
       "  z-index: 9999;\n",
       "  position: relative;\n",
       "  font-weight: normal;\n",
       "  right: .2ex;\n",
       "  padding: .5ex;\n",
       "  margin: .5ex;\n",
       "  width: min-content;\n",
       "  min-width: 20ex;\n",
       "  max-width: 50ex;\n",
       "  color: var(--sklearn-color-text);\n",
       "  box-shadow: 2pt 2pt 4pt #999;\n",
       "  /* unfitted */\n",
       "  background: var(--sklearn-color-unfitted-level-0);\n",
       "  border: .5pt solid var(--sklearn-color-unfitted-level-3);\n",
       "}\n",
       "\n",
       ".sk-estimator-doc-link.fitted span {\n",
       "  /* fitted */\n",
       "  background: var(--sklearn-color-fitted-level-0);\n",
       "  border: var(--sklearn-color-fitted-level-3);\n",
       "}\n",
       "\n",
       ".sk-estimator-doc-link:hover span {\n",
       "  display: block;\n",
       "}\n",
       "\n",
       "/* \"?\"-specific style due to the `<a>` HTML tag */\n",
       "\n",
       "#sk-container-id-1 a.estimator_doc_link {\n",
       "  float: right;\n",
       "  font-size: 1rem;\n",
       "  line-height: 1em;\n",
       "  font-family: monospace;\n",
       "  background-color: var(--sklearn-color-background);\n",
       "  border-radius: 1rem;\n",
       "  height: 1rem;\n",
       "  width: 1rem;\n",
       "  text-decoration: none;\n",
       "  /* unfitted */\n",
       "  color: var(--sklearn-color-unfitted-level-1);\n",
       "  border: var(--sklearn-color-unfitted-level-1) 1pt solid;\n",
       "}\n",
       "\n",
       "#sk-container-id-1 a.estimator_doc_link.fitted {\n",
       "  /* fitted */\n",
       "  border: var(--sklearn-color-fitted-level-1) 1pt solid;\n",
       "  color: var(--sklearn-color-fitted-level-1);\n",
       "}\n",
       "\n",
       "/* On hover */\n",
       "#sk-container-id-1 a.estimator_doc_link:hover {\n",
       "  /* unfitted */\n",
       "  background-color: var(--sklearn-color-unfitted-level-3);\n",
       "  color: var(--sklearn-color-background);\n",
       "  text-decoration: none;\n",
       "}\n",
       "\n",
       "#sk-container-id-1 a.estimator_doc_link.fitted:hover {\n",
       "  /* fitted */\n",
       "  background-color: var(--sklearn-color-fitted-level-3);\n",
       "}\n",
       "</style><div id=\"sk-container-id-1\" class=\"sk-top-container\"><div class=\"sk-text-repr-fallback\"><pre>SVC(C=0.1, kernel=&#x27;linear&#x27;)</pre><b>In a Jupyter environment, please rerun this cell to show the HTML representation or trust the notebook. <br />On GitHub, the HTML representation is unable to render, please try loading this page with nbviewer.org.</b></div><div class=\"sk-container\" hidden><div class=\"sk-item\"><div class=\"sk-estimator fitted sk-toggleable\"><input class=\"sk-toggleable__control sk-hidden--visually\" id=\"sk-estimator-id-1\" type=\"checkbox\" checked><label for=\"sk-estimator-id-1\" class=\"sk-toggleable__label fitted sk-toggleable__label-arrow fitted\">&nbsp;&nbsp;SVC<a class=\"sk-estimator-doc-link fitted\" rel=\"noreferrer\" target=\"_blank\" href=\"https://scikit-learn.org/1.5/modules/generated/sklearn.svm.SVC.html\">?<span>Documentation for SVC</span></a><span class=\"sk-estimator-doc-link fitted\">i<span>Fitted</span></span></label><div class=\"sk-toggleable__content fitted\"><pre>SVC(C=0.1, kernel=&#x27;linear&#x27;)</pre></div> </div></div></div></div>"
      ],
      "text/plain": [
       "SVC(C=0.1, kernel='linear')"
      ]
     },
     "execution_count": 10,
     "metadata": {},
     "output_type": "execute_result"
    }
   ],
   "source": [
    "#access the optimal linear model\n",
    "best_linear_mod = grid.best_estimator_\n",
    "#fit the optimal linear model on training data\n",
    "best_linear_mod.fit(X_train,y_train)"
   ]
  },
  {
   "cell_type": "markdown",
   "id": "6323cbe3",
   "metadata": {},
   "source": [
    "The cross-validation identified **C = 0.1** as the optimal choice for maximizing model performance on unseen data within the training set.\\\n",
    "In the last part of this section, the best linear SVM is fitted on the training data set resulting from the previous manual split. We will show the confusion matrix and the accuracy value of this model coming from our 50/50 split."
   ]
  },
  {
   "cell_type": "code",
   "execution_count": 11,
   "id": "78589c74",
   "metadata": {},
   "outputs": [
    {
     "data": {
      "text/html": [
       "<div>\n",
       "<style scoped>\n",
       "    .dataframe tbody tr th:only-of-type {\n",
       "        vertical-align: middle;\n",
       "    }\n",
       "\n",
       "    .dataframe tbody tr th {\n",
       "        vertical-align: top;\n",
       "    }\n",
       "\n",
       "    .dataframe thead th {\n",
       "        text-align: right;\n",
       "    }\n",
       "</style>\n",
       "<table border=\"1\" class=\"dataframe\">\n",
       "  <thead>\n",
       "    <tr style=\"text-align: right;\">\n",
       "      <th>Truth</th>\n",
       "      <th>-1</th>\n",
       "      <th>1</th>\n",
       "    </tr>\n",
       "    <tr>\n",
       "      <th>Predicted</th>\n",
       "      <th></th>\n",
       "      <th></th>\n",
       "    </tr>\n",
       "  </thead>\n",
       "  <tbody>\n",
       "    <tr>\n",
       "      <th>-1</th>\n",
       "      <td>17</td>\n",
       "      <td>1</td>\n",
       "    </tr>\n",
       "    <tr>\n",
       "      <th>1</th>\n",
       "      <td>7</td>\n",
       "      <td>15</td>\n",
       "    </tr>\n",
       "  </tbody>\n",
       "</table>\n",
       "</div>"
      ],
      "text/plain": [
       "Truth      -1   1\n",
       "Predicted        \n",
       "-1         17   1\n",
       " 1          7  15"
      ]
     },
     "execution_count": 11,
     "metadata": {},
     "output_type": "execute_result"
    }
   ],
   "source": [
    "#prediction on test data\n",
    "ypred_linear = best_linear_mod.predict(X_test)\n",
    "#confusion matrix\n",
    "confusion_table(ypred_linear, y_test)"
   ]
  },
  {
   "cell_type": "code",
   "execution_count": 12,
   "id": "ee2fd450",
   "metadata": {},
   "outputs": [
    {
     "data": {
      "text/plain": [
       "0.8"
      ]
     },
     "execution_count": 12,
     "metadata": {},
     "output_type": "execute_result"
    }
   ],
   "source": [
    "#accuracy\n",
    "(ypred_linear == y_test).mean()"
   ]
  },
  {
   "cell_type": "markdown",
   "id": "3640b113",
   "metadata": {},
   "source": [
    "The accuracy obtained on the manually separated test set is 0.80, which is very close to the average accuracy of 0.86 from cross-validation, confirming the model’s good generalization performance.\n",
    "\n",
    "Since we are working with high-dimensional gene expression data, at this stage of the analysis we considered applying dimensionality reduction techniques, specifically Principal Component Analysis (PCA), for visualization purposes only. Our goal was to reduce the dataset to two components in order to plot the data points along with the hyperplane obtained from the previous analysis.\\\n",
    "We then decided to fit a linear SVC on the PCA-transformed dataset to observe how the accuracy would be affected."
   ]
  },
  {
   "cell_type": "code",
   "execution_count": null,
   "id": "cef2175b",
   "metadata": {},
   "outputs": [],
   "source": [
    "pca = PCA(n_components=2) #initialize PCA\n",
    "X_pca = pca.fit_transform(X) #fit PCA on the original dataset\n",
    "X_train_pca = pca.fit_transform(X_train)\n",
    "X_test_pca = pca.fit_transform(X_test)\n",
    "\n",
    "X_train_pca = pd.DataFrame(X_train_pca) #convert transformed data into a dataframe\n",
    "y_train= pd.Series(y_train).reset_index(drop=True) #reset the index of the training labels to align with the transformed training data"
   ]
  },
  {
   "cell_type": "code",
   "execution_count": null,
   "id": "939d9a03",
   "metadata": {},
   "outputs": [
    {
     "name": "stdout",
     "output_type": "stream",
     "text": [
      "Optimal linear model:  SVC(C=10000.0, kernel='linear')\n",
      "Accuracy of optimal model:  0.5571428571428572\n"
     ]
    }
   ],
   "source": [
    "C_values = [1e-4, 1e-3, 0.01, 0.1, 1, 10, 100, 1e3, 1e4]\n",
    "#create a ten folds cross validation object\n",
    "kfold = skm.KFold(10, random_state=0, shuffle=True)\n",
    "#create the gridsearch\n",
    "grid = skm.GridSearchCV(svm_linear,\n",
    "                        {\"C\": C_values},\n",
    "                        cv=kfold,\n",
    "                        scoring=\"accuracy\") #scoring = how to measure the performance to pick the best one\n",
    "grid.fit(X_pca,y)\n",
    "#access the best parameter combination\n",
    "print(\"Optimal linear model: \", grid.best_estimator_)\n",
    "print(\"Cross-validation accuracy of optimal model: \", grid.best_score_)"
   ]
  },
  {
   "cell_type": "markdown",
   "id": "a58b1703",
   "metadata": {},
   "source": [
    "After fitting a linear SVC on the transformed data, the cross validation accuracy dropped to 0.59, likely due to the loss of discriminative information during dimensionality reduction. Since PCA is unsupervised and only retains the directions of maximum variance, it may not preserve the features most relevant for classification.\\\n",
    "Notably, the optimal linear SVC returned a very high regularization parameter (C = 10,000). Such a large value indicates that the model heavily penalizes misclassifications on the training data, likely resulting in a very narrow margin. This behavior suggests a tendency to overfit, which may explain the relatively low accuracy.\\\n",
    "We decided to plot the resulting optimal SVC, but we will not proceed forward with the data transformation. The plot was generated using the ISLP function `plot_svm()` with the SVC fit and the transformed data. Crosses (`+`) indicate the support vectors and the remaining observations are plotted as circles, with misclassifications being highlighted."
   ]
  },
  {
   "cell_type": "code",
   "execution_count": 17,
   "id": "01511bfe",
   "metadata": {},
   "outputs": [
    {
     "data": {
      "image/png": "[encoded data removed]",
      "text/plain": [
       "<Figure size 500x500 with 1 Axes>"
      ]
     },
     "metadata": {},
     "output_type": "display_data"
    }
   ],
   "source": [
    "best_linear_mod_pca = grid.best_estimator_\n",
    "best_linear_mod_pca.fit(X_train_pca,y_train)\n",
    "\n",
    "fig, ax = plt.subplots(figsize=(5, 5))\n",
    "plot_svm(X_train_pca, y_train, best_linear_mod_pca, ax=ax)"
   ]
  },
  {
   "cell_type": "markdown",
   "id": "64351953",
   "metadata": {},
   "source": [
    "# Radial basis function and polynomial SVM"
   ]
  },
  {
   "cell_type": "markdown",
   "id": "93369f69",
   "metadata": {},
   "source": [
    "As previously mentioned, due to the nature of the dataset, a linear SVC is likely the most appropriate model for our classification problem.\\\n",
    "To support this assumption, in this section we fit two additional Support Vector Machines, one using an RBF kernel and the other using a polynomial kernel, and compare their performance to that of the linear SVC.\\\n",
    "Starting with our radial kernel, we employed the `SVC` function with the parameter `kernel=\"rbf\"`. The two hyperparameters `C` and `gamma` were initially set to placeholder values. Then hyperparametry tuning by cross-validation was performed."
   ]
  },
  {
   "cell_type": "code",
   "execution_count": null,
   "id": "0d7f47e2",
   "metadata": {},
   "outputs": [],
   "source": [
    "svm_rbf = SVC(kernel=\"rbf\", C=1, gamma=1)"
   ]
  },
  {
   "cell_type": "code",
   "execution_count": null,
   "id": "6d2754a2",
   "metadata": {},
   "outputs": [
    {
     "name": "stdout",
     "output_type": "stream",
     "text": [
      "Optimal rbf model:  SVC(C=0.0001, gamma=0.5)\n",
      "Cross-validation accuracy of optimal model:  0.5416666666666667\n"
     ]
    }
   ],
   "source": [
    "C_range = [1e-4, 1e-3, 0.01, 0.1, 1, 10, 100, 1e3, 1e4]\n",
    "gamma_range = [0.5, 1, 2, 3, 4]\n",
    "\n",
    "params = {\"C\": C_range, \"gamma\":gamma_range}\n",
    "\n",
    "kfold = skm.KFold(10, random_state=0, shuffle=True)\n",
    "\n",
    "grid = skm.GridSearchCV(svm_rbf, param_grid=params, cv=kfold, scoring=\"accuracy\")\n",
    "grid.fit(X_train, y_train)\n",
    "print(\"Optimal rbf model: \", grid.best_estimator_)\n",
    "print(\"Cross-validation accuracy of optimal model: \", grid.best_score_)"
   ]
  },
  {
   "cell_type": "code",
   "execution_count": null,
   "id": "fa24c025",
   "metadata": {},
   "outputs": [
    {
     "data": {
      "text/html": [
       "<style>#sk-container-id-2 {\n",
       "  /* Definition of color scheme common for light and dark mode */\n",
       "  --sklearn-color-text: black;\n",
       "  --sklearn-color-line: gray;\n",
       "  /* Definition of color scheme for unfitted estimators */\n",
       "  --sklearn-color-unfitted-level-0: #fff5e6;\n",
       "  --sklearn-color-unfitted-level-1: #f6e4d2;\n",
       "  --sklearn-color-unfitted-level-2: #ffe0b3;\n",
       "  --sklearn-color-unfitted-level-3: chocolate;\n",
       "  /* Definition of color scheme for fitted estimators */\n",
       "  --sklearn-color-fitted-level-0: #f0f8ff;\n",
       "  --sklearn-color-fitted-level-1: #d4ebff;\n",
       "  --sklearn-color-fitted-level-2: #b3dbfd;\n",
       "  --sklearn-color-fitted-level-3: cornflowerblue;\n",
       "\n",
       "  /* Specific color for light theme */\n",
       "  --sklearn-color-text-on-default-background: var(--sg-text-color, var(--theme-code-foreground, var(--jp-content-font-color1, black)));\n",
       "  --sklearn-color-background: var(--sg-background-color, var(--theme-background, var(--jp-layout-color0, white)));\n",
       "  --sklearn-color-border-box: var(--sg-text-color, var(--theme-code-foreground, var(--jp-content-font-color1, black)));\n",
       "  --sklearn-color-icon: #696969;\n",
       "\n",
       "  @media (prefers-color-scheme: dark) {\n",
       "    /* Redefinition of color scheme for dark theme */\n",
       "    --sklearn-color-text-on-default-background: var(--sg-text-color, var(--theme-code-foreground, var(--jp-content-font-color1, white)));\n",
       "    --sklearn-color-background: var(--sg-background-color, var(--theme-background, var(--jp-layout-color0, #111)));\n",
       "    --sklearn-color-border-box: var(--sg-text-color, var(--theme-code-foreground, var(--jp-content-font-color1, white)));\n",
       "    --sklearn-color-icon: #878787;\n",
       "  }\n",
       "}\n",
       "\n",
       "#sk-container-id-2 {\n",
       "  color: var(--sklearn-color-text);\n",
       "}\n",
       "\n",
       "#sk-container-id-2 pre {\n",
       "  padding: 0;\n",
       "}\n",
       "\n",
       "#sk-container-id-2 input.sk-hidden--visually {\n",
       "  border: 0;\n",
       "  clip: rect(1px 1px 1px 1px);\n",
       "  clip: rect(1px, 1px, 1px, 1px);\n",
       "  height: 1px;\n",
       "  margin: -1px;\n",
       "  overflow: hidden;\n",
       "  padding: 0;\n",
       "  position: absolute;\n",
       "  width: 1px;\n",
       "}\n",
       "\n",
       "#sk-container-id-2 div.sk-dashed-wrapped {\n",
       "  border: 1px dashed var(--sklearn-color-line);\n",
       "  margin: 0 0.4em 0.5em 0.4em;\n",
       "  box-sizing: border-box;\n",
       "  padding-bottom: 0.4em;\n",
       "  background-color: var(--sklearn-color-background);\n",
       "}\n",
       "\n",
       "#sk-container-id-2 div.sk-container {\n",
       "  /* jupyter's `normalize.less` sets `[hidden] { display: none; }`\n",
       "     but bootstrap.min.css set `[hidden] { display: none !important; }`\n",
       "     so we also need the `!important` here to be able to override the\n",
       "     default hidden behavior on the sphinx rendered scikit-learn.org.\n",
       "     See: https://github.com/scikit-learn/scikit-learn/issues/21755 */\n",
       "  display: inline-block !important;\n",
       "  position: relative;\n",
       "}\n",
       "\n",
       "#sk-container-id-2 div.sk-text-repr-fallback {\n",
       "  display: none;\n",
       "}\n",
       "\n",
       "div.sk-parallel-item,\n",
       "div.sk-serial,\n",
       "div.sk-item {\n",
       "  /* draw centered vertical line to link estimators */\n",
       "  background-image: linear-gradient(var(--sklearn-color-text-on-default-background), var(--sklearn-color-text-on-default-background));\n",
       "  background-size: 2px 100%;\n",
       "  background-repeat: no-repeat;\n",
       "  background-position: center center;\n",
       "}\n",
       "\n",
       "/* Parallel-specific style estimator block */\n",
       "\n",
       "#sk-container-id-2 div.sk-parallel-item::after {\n",
       "  content: \"\";\n",
       "  width: 100%;\n",
       "  border-bottom: 2px solid var(--sklearn-color-text-on-default-background);\n",
       "  flex-grow: 1;\n",
       "}\n",
       "\n",
       "#sk-container-id-2 div.sk-parallel {\n",
       "  display: flex;\n",
       "  align-items: stretch;\n",
       "  justify-content: center;\n",
       "  background-color: var(--sklearn-color-background);\n",
       "  position: relative;\n",
       "}\n",
       "\n",
       "#sk-container-id-2 div.sk-parallel-item {\n",
       "  display: flex;\n",
       "  flex-direction: column;\n",
       "}\n",
       "\n",
       "#sk-container-id-2 div.sk-parallel-item:first-child::after {\n",
       "  align-self: flex-end;\n",
       "  width: 50%;\n",
       "}\n",
       "\n",
       "#sk-container-id-2 div.sk-parallel-item:last-child::after {\n",
       "  align-self: flex-start;\n",
       "  width: 50%;\n",
       "}\n",
       "\n",
       "#sk-container-id-2 div.sk-parallel-item:only-child::after {\n",
       "  width: 0;\n",
       "}\n",
       "\n",
       "/* Serial-specific style estimator block */\n",
       "\n",
       "#sk-container-id-2 div.sk-serial {\n",
       "  display: flex;\n",
       "  flex-direction: column;\n",
       "  align-items: center;\n",
       "  background-color: var(--sklearn-color-background);\n",
       "  padding-right: 1em;\n",
       "  padding-left: 1em;\n",
       "}\n",
       "\n",
       "\n",
       "/* Toggleable style: style used for estimator/Pipeline/ColumnTransformer box that is\n",
       "clickable and can be expanded/collapsed.\n",
       "- Pipeline and ColumnTransformer use this feature and define the default style\n",
       "- Estimators will overwrite some part of the style using the `sk-estimator` class\n",
       "*/\n",
       "\n",
       "/* Pipeline and ColumnTransformer style (default) */\n",
       "\n",
       "#sk-container-id-2 div.sk-toggleable {\n",
       "  /* Default theme specific background. It is overwritten whether we have a\n",
       "  specific estimator or a Pipeline/ColumnTransformer */\n",
       "  background-color: var(--sklearn-color-background);\n",
       "}\n",
       "\n",
       "/* Toggleable label */\n",
       "#sk-container-id-2 label.sk-toggleable__label {\n",
       "  cursor: pointer;\n",
       "  display: block;\n",
       "  width: 100%;\n",
       "  margin-bottom: 0;\n",
       "  padding: 0.5em;\n",
       "  box-sizing: border-box;\n",
       "  text-align: center;\n",
       "}\n",
       "\n",
       "#sk-container-id-2 label.sk-toggleable__label-arrow:before {\n",
       "  /* Arrow on the left of the label */\n",
       "  content: \"▸\";\n",
       "  float: left;\n",
       "  margin-right: 0.25em;\n",
       "  color: var(--sklearn-color-icon);\n",
       "}\n",
       "\n",
       "#sk-container-id-2 label.sk-toggleable__label-arrow:hover:before {\n",
       "  color: var(--sklearn-color-text);\n",
       "}\n",
       "\n",
       "/* Toggleable content - dropdown */\n",
       "\n",
       "#sk-container-id-2 div.sk-toggleable__content {\n",
       "  max-height: 0;\n",
       "  max-width: 0;\n",
       "  overflow: hidden;\n",
       "  text-align: left;\n",
       "  /* unfitted */\n",
       "  background-color: var(--sklearn-color-unfitted-level-0);\n",
       "}\n",
       "\n",
       "#sk-container-id-2 div.sk-toggleable__content.fitted {\n",
       "  /* fitted */\n",
       "  background-color: var(--sklearn-color-fitted-level-0);\n",
       "}\n",
       "\n",
       "#sk-container-id-2 div.sk-toggleable__content pre {\n",
       "  margin: 0.2em;\n",
       "  border-radius: 0.25em;\n",
       "  color: var(--sklearn-color-text);\n",
       "  /* unfitted */\n",
       "  background-color: var(--sklearn-color-unfitted-level-0);\n",
       "}\n",
       "\n",
       "#sk-container-id-2 div.sk-toggleable__content.fitted pre {\n",
       "  /* unfitted */\n",
       "  background-color: var(--sklearn-color-fitted-level-0);\n",
       "}\n",
       "\n",
       "#sk-container-id-2 input.sk-toggleable__control:checked~div.sk-toggleable__content {\n",
       "  /* Expand drop-down */\n",
       "  max-height: 200px;\n",
       "  max-width: 100%;\n",
       "  overflow: auto;\n",
       "}\n",
       "\n",
       "#sk-container-id-2 input.sk-toggleable__control:checked~label.sk-toggleable__label-arrow:before {\n",
       "  content: \"▾\";\n",
       "}\n",
       "\n",
       "/* Pipeline/ColumnTransformer-specific style */\n",
       "\n",
       "#sk-container-id-2 div.sk-label input.sk-toggleable__control:checked~label.sk-toggleable__label {\n",
       "  color: var(--sklearn-color-text);\n",
       "  background-color: var(--sklearn-color-unfitted-level-2);\n",
       "}\n",
       "\n",
       "#sk-container-id-2 div.sk-label.fitted input.sk-toggleable__control:checked~label.sk-toggleable__label {\n",
       "  background-color: var(--sklearn-color-fitted-level-2);\n",
       "}\n",
       "\n",
       "/* Estimator-specific style */\n",
       "\n",
       "/* Colorize estimator box */\n",
       "#sk-container-id-2 div.sk-estimator input.sk-toggleable__control:checked~label.sk-toggleable__label {\n",
       "  /* unfitted */\n",
       "  background-color: var(--sklearn-color-unfitted-level-2);\n",
       "}\n",
       "\n",
       "#sk-container-id-2 div.sk-estimator.fitted input.sk-toggleable__control:checked~label.sk-toggleable__label {\n",
       "  /* fitted */\n",
       "  background-color: var(--sklearn-color-fitted-level-2);\n",
       "}\n",
       "\n",
       "#sk-container-id-2 div.sk-label label.sk-toggleable__label,\n",
       "#sk-container-id-2 div.sk-label label {\n",
       "  /* The background is the default theme color */\n",
       "  color: var(--sklearn-color-text-on-default-background);\n",
       "}\n",
       "\n",
       "/* On hover, darken the color of the background */\n",
       "#sk-container-id-2 div.sk-label:hover label.sk-toggleable__label {\n",
       "  color: var(--sklearn-color-text);\n",
       "  background-color: var(--sklearn-color-unfitted-level-2);\n",
       "}\n",
       "\n",
       "/* Label box, darken color on hover, fitted */\n",
       "#sk-container-id-2 div.sk-label.fitted:hover label.sk-toggleable__label.fitted {\n",
       "  color: var(--sklearn-color-text);\n",
       "  background-color: var(--sklearn-color-fitted-level-2);\n",
       "}\n",
       "\n",
       "/* Estimator label */\n",
       "\n",
       "#sk-container-id-2 div.sk-label label {\n",
       "  font-family: monospace;\n",
       "  font-weight: bold;\n",
       "  display: inline-block;\n",
       "  line-height: 1.2em;\n",
       "}\n",
       "\n",
       "#sk-container-id-2 div.sk-label-container {\n",
       "  text-align: center;\n",
       "}\n",
       "\n",
       "/* Estimator-specific */\n",
       "#sk-container-id-2 div.sk-estimator {\n",
       "  font-family: monospace;\n",
       "  border: 1px dotted var(--sklearn-color-border-box);\n",
       "  border-radius: 0.25em;\n",
       "  box-sizing: border-box;\n",
       "  margin-bottom: 0.5em;\n",
       "  /* unfitted */\n",
       "  background-color: var(--sklearn-color-unfitted-level-0);\n",
       "}\n",
       "\n",
       "#sk-container-id-2 div.sk-estimator.fitted {\n",
       "  /* fitted */\n",
       "  background-color: var(--sklearn-color-fitted-level-0);\n",
       "}\n",
       "\n",
       "/* on hover */\n",
       "#sk-container-id-2 div.sk-estimator:hover {\n",
       "  /* unfitted */\n",
       "  background-color: var(--sklearn-color-unfitted-level-2);\n",
       "}\n",
       "\n",
       "#sk-container-id-2 div.sk-estimator.fitted:hover {\n",
       "  /* fitted */\n",
       "  background-color: var(--sklearn-color-fitted-level-2);\n",
       "}\n",
       "\n",
       "/* Specification for estimator info (e.g. \"i\" and \"?\") */\n",
       "\n",
       "/* Common style for \"i\" and \"?\" */\n",
       "\n",
       ".sk-estimator-doc-link,\n",
       "a:link.sk-estimator-doc-link,\n",
       "a:visited.sk-estimator-doc-link {\n",
       "  float: right;\n",
       "  font-size: smaller;\n",
       "  line-height: 1em;\n",
       "  font-family: monospace;\n",
       "  background-color: var(--sklearn-color-background);\n",
       "  border-radius: 1em;\n",
       "  height: 1em;\n",
       "  width: 1em;\n",
       "  text-decoration: none !important;\n",
       "  margin-left: 1ex;\n",
       "  /* unfitted */\n",
       "  border: var(--sklearn-color-unfitted-level-1) 1pt solid;\n",
       "  color: var(--sklearn-color-unfitted-level-1);\n",
       "}\n",
       "\n",
       ".sk-estimator-doc-link.fitted,\n",
       "a:link.sk-estimator-doc-link.fitted,\n",
       "a:visited.sk-estimator-doc-link.fitted {\n",
       "  /* fitted */\n",
       "  border: var(--sklearn-color-fitted-level-1) 1pt solid;\n",
       "  color: var(--sklearn-color-fitted-level-1);\n",
       "}\n",
       "\n",
       "/* On hover */\n",
       "div.sk-estimator:hover .sk-estimator-doc-link:hover,\n",
       ".sk-estimator-doc-link:hover,\n",
       "div.sk-label-container:hover .sk-estimator-doc-link:hover,\n",
       ".sk-estimator-doc-link:hover {\n",
       "  /* unfitted */\n",
       "  background-color: var(--sklearn-color-unfitted-level-3);\n",
       "  color: var(--sklearn-color-background);\n",
       "  text-decoration: none;\n",
       "}\n",
       "\n",
       "div.sk-estimator.fitted:hover .sk-estimator-doc-link.fitted:hover,\n",
       ".sk-estimator-doc-link.fitted:hover,\n",
       "div.sk-label-container:hover .sk-estimator-doc-link.fitted:hover,\n",
       ".sk-estimator-doc-link.fitted:hover {\n",
       "  /* fitted */\n",
       "  background-color: var(--sklearn-color-fitted-level-3);\n",
       "  color: var(--sklearn-color-background);\n",
       "  text-decoration: none;\n",
       "}\n",
       "\n",
       "/* Span, style for the box shown on hovering the info icon */\n",
       ".sk-estimator-doc-link span {\n",
       "  display: none;\n",
       "  z-index: 9999;\n",
       "  position: relative;\n",
       "  font-weight: normal;\n",
       "  right: .2ex;\n",
       "  padding: .5ex;\n",
       "  margin: .5ex;\n",
       "  width: min-content;\n",
       "  min-width: 20ex;\n",
       "  max-width: 50ex;\n",
       "  color: var(--sklearn-color-text);\n",
       "  box-shadow: 2pt 2pt 4pt #999;\n",
       "  /* unfitted */\n",
       "  background: var(--sklearn-color-unfitted-level-0);\n",
       "  border: .5pt solid var(--sklearn-color-unfitted-level-3);\n",
       "}\n",
       "\n",
       ".sk-estimator-doc-link.fitted span {\n",
       "  /* fitted */\n",
       "  background: var(--sklearn-color-fitted-level-0);\n",
       "  border: var(--sklearn-color-fitted-level-3);\n",
       "}\n",
       "\n",
       ".sk-estimator-doc-link:hover span {\n",
       "  display: block;\n",
       "}\n",
       "\n",
       "/* \"?\"-specific style due to the `<a>` HTML tag */\n",
       "\n",
       "#sk-container-id-2 a.estimator_doc_link {\n",
       "  float: right;\n",
       "  font-size: 1rem;\n",
       "  line-height: 1em;\n",
       "  font-family: monospace;\n",
       "  background-color: var(--sklearn-color-background);\n",
       "  border-radius: 1rem;\n",
       "  height: 1rem;\n",
       "  width: 1rem;\n",
       "  text-decoration: none;\n",
       "  /* unfitted */\n",
       "  color: var(--sklearn-color-unfitted-level-1);\n",
       "  border: var(--sklearn-color-unfitted-level-1) 1pt solid;\n",
       "}\n",
       "\n",
       "#sk-container-id-2 a.estimator_doc_link.fitted {\n",
       "  /* fitted */\n",
       "  border: var(--sklearn-color-fitted-level-1) 1pt solid;\n",
       "  color: var(--sklearn-color-fitted-level-1);\n",
       "}\n",
       "\n",
       "/* On hover */\n",
       "#sk-container-id-2 a.estimator_doc_link:hover {\n",
       "  /* unfitted */\n",
       "  background-color: var(--sklearn-color-unfitted-level-3);\n",
       "  color: var(--sklearn-color-background);\n",
       "  text-decoration: none;\n",
       "}\n",
       "\n",
       "#sk-container-id-2 a.estimator_doc_link.fitted:hover {\n",
       "  /* fitted */\n",
       "  background-color: var(--sklearn-color-fitted-level-3);\n",
       "}\n",
       "</style><div id=\"sk-container-id-2\" class=\"sk-top-container\"><div class=\"sk-text-repr-fallback\"><pre>SVC(C=0.0001, gamma=0.5)</pre><b>In a Jupyter environment, please rerun this cell to show the HTML representation or trust the notebook. <br />On GitHub, the HTML representation is unable to render, please try loading this page with nbviewer.org.</b></div><div class=\"sk-container\" hidden><div class=\"sk-item\"><div class=\"sk-estimator fitted sk-toggleable\"><input class=\"sk-toggleable__control sk-hidden--visually\" id=\"sk-estimator-id-2\" type=\"checkbox\" checked><label for=\"sk-estimator-id-2\" class=\"sk-toggleable__label fitted sk-toggleable__label-arrow fitted\">&nbsp;&nbsp;SVC<a class=\"sk-estimator-doc-link fitted\" rel=\"noreferrer\" target=\"_blank\" href=\"https://scikit-learn.org/1.5/modules/generated/sklearn.svm.SVC.html\">?<span>Documentation for SVC</span></a><span class=\"sk-estimator-doc-link fitted\">i<span>Fitted</span></span></label><div class=\"sk-toggleable__content fitted\"><pre>SVC(C=0.0001, gamma=0.5)</pre></div> </div></div></div></div>"
      ],
      "text/plain": [
       "SVC(C=0.0001, gamma=0.5)"
      ]
     },
     "execution_count": 18,
     "metadata": {},
     "output_type": "execute_result"
    }
   ],
   "source": [
    "best_rbf_svm = grid.best_estimator_\n",
    "#fit the optimal linear model on training data\n",
    "best_rbf_svm.fit(X_train,y_train)"
   ]
  },
  {
   "cell_type": "code",
   "execution_count": null,
   "id": "bd39035b",
   "metadata": {},
   "outputs": [
    {
     "data": {
      "text/html": [
       "<div>\n",
       "<style scoped>\n",
       "    .dataframe tbody tr th:only-of-type {\n",
       "        vertical-align: middle;\n",
       "    }\n",
       "\n",
       "    .dataframe tbody tr th {\n",
       "        vertical-align: top;\n",
       "    }\n",
       "\n",
       "    .dataframe thead th {\n",
       "        text-align: right;\n",
       "    }\n",
       "</style>\n",
       "<table border=\"1\" class=\"dataframe\">\n",
       "  <thead>\n",
       "    <tr style=\"text-align: right;\">\n",
       "      <th>Truth</th>\n",
       "      <th>-1</th>\n",
       "      <th>1</th>\n",
       "    </tr>\n",
       "    <tr>\n",
       "      <th>Predicted</th>\n",
       "      <th></th>\n",
       "      <th></th>\n",
       "    </tr>\n",
       "  </thead>\n",
       "  <tbody>\n",
       "    <tr>\n",
       "      <th>-1</th>\n",
       "      <td>0</td>\n",
       "      <td>0</td>\n",
       "    </tr>\n",
       "    <tr>\n",
       "      <th>1</th>\n",
       "      <td>24</td>\n",
       "      <td>16</td>\n",
       "    </tr>\n",
       "  </tbody>\n",
       "</table>\n",
       "</div>"
      ],
      "text/plain": [
       "Truth      -1   1\n",
       "Predicted        \n",
       "-1          0   0\n",
       " 1         24  16"
      ]
     },
     "execution_count": 20,
     "metadata": {},
     "output_type": "execute_result"
    }
   ],
   "source": [
    "ypred_rbf = best_rbf_svm.predict(X_test)\n",
    "confusion_table(ypred_rbf, y_test)"
   ]
  },
  {
   "cell_type": "code",
   "execution_count": null,
   "id": "5ca3452e",
   "metadata": {},
   "outputs": [
    {
     "data": {
      "text/plain": [
       "0.4"
      ]
     },
     "execution_count": 21,
     "metadata": {},
     "output_type": "execute_result"
    }
   ],
   "source": [
    "(ypred_rbf == y_test).mean()"
   ]
  },
  {
   "cell_type": "markdown",
   "id": "8013c1c1",
   "metadata": {},
   "source": [
    "After fitting an SVM with an RBF kernel, the accuracy dropped to 0.54. Interestingly, the model consistently predicted only class 1. This behavior suggests either an imbalance in the dataset or suboptimal hyperparameter settings.\\\n",
    "Since the data set was proven to be balanced, this outcome is likely due to underfitting caused by using the smallest values of C and gamma in the parameter grid. These conservative settings may have led the model to learn an overly smooth and simplistic decision boundary, failing to capture meaningful class distinctions.\n",
    "\n",
    "To fit a polynomial SVM we employed the `SVC` function with the parameter `kernel=\"poly\"`. The two hyperparameters `C` and `degree` were initially set to placeholder values. Then hyperparametry tuning by cross-validation was performed."
   ]
  },
  {
   "cell_type": "code",
   "execution_count": null,
   "id": "470eb83b",
   "metadata": {},
   "outputs": [],
   "source": [
    "svm_poly = SVC(kernel=\"poly\", C=1, degree=2)"
   ]
  },
  {
   "cell_type": "code",
   "execution_count": null,
   "id": "f87d84a2",
   "metadata": {},
   "outputs": [
    {
     "name": "stdout",
     "output_type": "stream",
     "text": [
      "Optimal polynomial model:  SVC(C=0.1, degree=4, kernel='poly')\n",
      "Cross-validation accuracy of optimal model:  0.7\n"
     ]
    }
   ],
   "source": [
    "C_range = [0.1, 1, 10, 100, 1000]\n",
    "degree_range = [1, 2, 3, 4]\n",
    "\n",
    "params = {\"C\": C_range, \"degree\":degree_range}\n",
    "\n",
    "kfold = skm.KFold(10, random_state=0, shuffle=True)\n",
    "\n",
    "grid = skm.GridSearchCV(svm_poly, param_grid=params, cv=kfold, scoring=\"accuracy\")\n",
    "grid.fit(X_train, y_train)\n",
    "grid.cv_results_\n",
    "print(\"Optimal polynomial model: \", grid.best_estimator_)\n",
    "print(\"Cross-validation accuracy of optimal model: \", grid.best_score_)\n"
   ]
  },
  {
   "cell_type": "code",
   "execution_count": null,
   "id": "21d589e0",
   "metadata": {},
   "outputs": [
    {
     "data": {
      "text/html": [
       "<style>#sk-container-id-3 {\n",
       "  /* Definition of color scheme common for light and dark mode */\n",
       "  --sklearn-color-text: black;\n",
       "  --sklearn-color-line: gray;\n",
       "  /* Definition of color scheme for unfitted estimators */\n",
       "  --sklearn-color-unfitted-level-0: #fff5e6;\n",
       "  --sklearn-color-unfitted-level-1: #f6e4d2;\n",
       "  --sklearn-color-unfitted-level-2: #ffe0b3;\n",
       "  --sklearn-color-unfitted-level-3: chocolate;\n",
       "  /* Definition of color scheme for fitted estimators */\n",
       "  --sklearn-color-fitted-level-0: #f0f8ff;\n",
       "  --sklearn-color-fitted-level-1: #d4ebff;\n",
       "  --sklearn-color-fitted-level-2: #b3dbfd;\n",
       "  --sklearn-color-fitted-level-3: cornflowerblue;\n",
       "\n",
       "  /* Specific color for light theme */\n",
       "  --sklearn-color-text-on-default-background: var(--sg-text-color, var(--theme-code-foreground, var(--jp-content-font-color1, black)));\n",
       "  --sklearn-color-background: var(--sg-background-color, var(--theme-background, var(--jp-layout-color0, white)));\n",
       "  --sklearn-color-border-box: var(--sg-text-color, var(--theme-code-foreground, var(--jp-content-font-color1, black)));\n",
       "  --sklearn-color-icon: #696969;\n",
       "\n",
       "  @media (prefers-color-scheme: dark) {\n",
       "    /* Redefinition of color scheme for dark theme */\n",
       "    --sklearn-color-text-on-default-background: var(--sg-text-color, var(--theme-code-foreground, var(--jp-content-font-color1, white)));\n",
       "    --sklearn-color-background: var(--sg-background-color, var(--theme-background, var(--jp-layout-color0, #111)));\n",
       "    --sklearn-color-border-box: var(--sg-text-color, var(--theme-code-foreground, var(--jp-content-font-color1, white)));\n",
       "    --sklearn-color-icon: #878787;\n",
       "  }\n",
       "}\n",
       "\n",
       "#sk-container-id-3 {\n",
       "  color: var(--sklearn-color-text);\n",
       "}\n",
       "\n",
       "#sk-container-id-3 pre {\n",
       "  padding: 0;\n",
       "}\n",
       "\n",
       "#sk-container-id-3 input.sk-hidden--visually {\n",
       "  border: 0;\n",
       "  clip: rect(1px 1px 1px 1px);\n",
       "  clip: rect(1px, 1px, 1px, 1px);\n",
       "  height: 1px;\n",
       "  margin: -1px;\n",
       "  overflow: hidden;\n",
       "  padding: 0;\n",
       "  position: absolute;\n",
       "  width: 1px;\n",
       "}\n",
       "\n",
       "#sk-container-id-3 div.sk-dashed-wrapped {\n",
       "  border: 1px dashed var(--sklearn-color-line);\n",
       "  margin: 0 0.4em 0.5em 0.4em;\n",
       "  box-sizing: border-box;\n",
       "  padding-bottom: 0.4em;\n",
       "  background-color: var(--sklearn-color-background);\n",
       "}\n",
       "\n",
       "#sk-container-id-3 div.sk-container {\n",
       "  /* jupyter's `normalize.less` sets `[hidden] { display: none; }`\n",
       "     but bootstrap.min.css set `[hidden] { display: none !important; }`\n",
       "     so we also need the `!important` here to be able to override the\n",
       "     default hidden behavior on the sphinx rendered scikit-learn.org.\n",
       "     See: https://github.com/scikit-learn/scikit-learn/issues/21755 */\n",
       "  display: inline-block !important;\n",
       "  position: relative;\n",
       "}\n",
       "\n",
       "#sk-container-id-3 div.sk-text-repr-fallback {\n",
       "  display: none;\n",
       "}\n",
       "\n",
       "div.sk-parallel-item,\n",
       "div.sk-serial,\n",
       "div.sk-item {\n",
       "  /* draw centered vertical line to link estimators */\n",
       "  background-image: linear-gradient(var(--sklearn-color-text-on-default-background), var(--sklearn-color-text-on-default-background));\n",
       "  background-size: 2px 100%;\n",
       "  background-repeat: no-repeat;\n",
       "  background-position: center center;\n",
       "}\n",
       "\n",
       "/* Parallel-specific style estimator block */\n",
       "\n",
       "#sk-container-id-3 div.sk-parallel-item::after {\n",
       "  content: \"\";\n",
       "  width: 100%;\n",
       "  border-bottom: 2px solid var(--sklearn-color-text-on-default-background);\n",
       "  flex-grow: 1;\n",
       "}\n",
       "\n",
       "#sk-container-id-3 div.sk-parallel {\n",
       "  display: flex;\n",
       "  align-items: stretch;\n",
       "  justify-content: center;\n",
       "  background-color: var(--sklearn-color-background);\n",
       "  position: relative;\n",
       "}\n",
       "\n",
       "#sk-container-id-3 div.sk-parallel-item {\n",
       "  display: flex;\n",
       "  flex-direction: column;\n",
       "}\n",
       "\n",
       "#sk-container-id-3 div.sk-parallel-item:first-child::after {\n",
       "  align-self: flex-end;\n",
       "  width: 50%;\n",
       "}\n",
       "\n",
       "#sk-container-id-3 div.sk-parallel-item:last-child::after {\n",
       "  align-self: flex-start;\n",
       "  width: 50%;\n",
       "}\n",
       "\n",
       "#sk-container-id-3 div.sk-parallel-item:only-child::after {\n",
       "  width: 0;\n",
       "}\n",
       "\n",
       "/* Serial-specific style estimator block */\n",
       "\n",
       "#sk-container-id-3 div.sk-serial {\n",
       "  display: flex;\n",
       "  flex-direction: column;\n",
       "  align-items: center;\n",
       "  background-color: var(--sklearn-color-background);\n",
       "  padding-right: 1em;\n",
       "  padding-left: 1em;\n",
       "}\n",
       "\n",
       "\n",
       "/* Toggleable style: style used for estimator/Pipeline/ColumnTransformer box that is\n",
       "clickable and can be expanded/collapsed.\n",
       "- Pipeline and ColumnTransformer use this feature and define the default style\n",
       "- Estimators will overwrite some part of the style using the `sk-estimator` class\n",
       "*/\n",
       "\n",
       "/* Pipeline and ColumnTransformer style (default) */\n",
       "\n",
       "#sk-container-id-3 div.sk-toggleable {\n",
       "  /* Default theme specific background. It is overwritten whether we have a\n",
       "  specific estimator or a Pipeline/ColumnTransformer */\n",
       "  background-color: var(--sklearn-color-background);\n",
       "}\n",
       "\n",
       "/* Toggleable label */\n",
       "#sk-container-id-3 label.sk-toggleable__label {\n",
       "  cursor: pointer;\n",
       "  display: block;\n",
       "  width: 100%;\n",
       "  margin-bottom: 0;\n",
       "  padding: 0.5em;\n",
       "  box-sizing: border-box;\n",
       "  text-align: center;\n",
       "}\n",
       "\n",
       "#sk-container-id-3 label.sk-toggleable__label-arrow:before {\n",
       "  /* Arrow on the left of the label */\n",
       "  content: \"▸\";\n",
       "  float: left;\n",
       "  margin-right: 0.25em;\n",
       "  color: var(--sklearn-color-icon);\n",
       "}\n",
       "\n",
       "#sk-container-id-3 label.sk-toggleable__label-arrow:hover:before {\n",
       "  color: var(--sklearn-color-text);\n",
       "}\n",
       "\n",
       "/* Toggleable content - dropdown */\n",
       "\n",
       "#sk-container-id-3 div.sk-toggleable__content {\n",
       "  max-height: 0;\n",
       "  max-width: 0;\n",
       "  overflow: hidden;\n",
       "  text-align: left;\n",
       "  /* unfitted */\n",
       "  background-color: var(--sklearn-color-unfitted-level-0);\n",
       "}\n",
       "\n",
       "#sk-container-id-3 div.sk-toggleable__content.fitted {\n",
       "  /* fitted */\n",
       "  background-color: var(--sklearn-color-fitted-level-0);\n",
       "}\n",
       "\n",
       "#sk-container-id-3 div.sk-toggleable__content pre {\n",
       "  margin: 0.2em;\n",
       "  border-radius: 0.25em;\n",
       "  color: var(--sklearn-color-text);\n",
       "  /* unfitted */\n",
       "  background-color: var(--sklearn-color-unfitted-level-0);\n",
       "}\n",
       "\n",
       "#sk-container-id-3 div.sk-toggleable__content.fitted pre {\n",
       "  /* unfitted */\n",
       "  background-color: var(--sklearn-color-fitted-level-0);\n",
       "}\n",
       "\n",
       "#sk-container-id-3 input.sk-toggleable__control:checked~div.sk-toggleable__content {\n",
       "  /* Expand drop-down */\n",
       "  max-height: 200px;\n",
       "  max-width: 100%;\n",
       "  overflow: auto;\n",
       "}\n",
       "\n",
       "#sk-container-id-3 input.sk-toggleable__control:checked~label.sk-toggleable__label-arrow:before {\n",
       "  content: \"▾\";\n",
       "}\n",
       "\n",
       "/* Pipeline/ColumnTransformer-specific style */\n",
       "\n",
       "#sk-container-id-3 div.sk-label input.sk-toggleable__control:checked~label.sk-toggleable__label {\n",
       "  color: var(--sklearn-color-text);\n",
       "  background-color: var(--sklearn-color-unfitted-level-2);\n",
       "}\n",
       "\n",
       "#sk-container-id-3 div.sk-label.fitted input.sk-toggleable__control:checked~label.sk-toggleable__label {\n",
       "  background-color: var(--sklearn-color-fitted-level-2);\n",
       "}\n",
       "\n",
       "/* Estimator-specific style */\n",
       "\n",
       "/* Colorize estimator box */\n",
       "#sk-container-id-3 div.sk-estimator input.sk-toggleable__control:checked~label.sk-toggleable__label {\n",
       "  /* unfitted */\n",
       "  background-color: var(--sklearn-color-unfitted-level-2);\n",
       "}\n",
       "\n",
       "#sk-container-id-3 div.sk-estimator.fitted input.sk-toggleable__control:checked~label.sk-toggleable__label {\n",
       "  /* fitted */\n",
       "  background-color: var(--sklearn-color-fitted-level-2);\n",
       "}\n",
       "\n",
       "#sk-container-id-3 div.sk-label label.sk-toggleable__label,\n",
       "#sk-container-id-3 div.sk-label label {\n",
       "  /* The background is the default theme color */\n",
       "  color: var(--sklearn-color-text-on-default-background);\n",
       "}\n",
       "\n",
       "/* On hover, darken the color of the background */\n",
       "#sk-container-id-3 div.sk-label:hover label.sk-toggleable__label {\n",
       "  color: var(--sklearn-color-text);\n",
       "  background-color: var(--sklearn-color-unfitted-level-2);\n",
       "}\n",
       "\n",
       "/* Label box, darken color on hover, fitted */\n",
       "#sk-container-id-3 div.sk-label.fitted:hover label.sk-toggleable__label.fitted {\n",
       "  color: var(--sklearn-color-text);\n",
       "  background-color: var(--sklearn-color-fitted-level-2);\n",
       "}\n",
       "\n",
       "/* Estimator label */\n",
       "\n",
       "#sk-container-id-3 div.sk-label label {\n",
       "  font-family: monospace;\n",
       "  font-weight: bold;\n",
       "  display: inline-block;\n",
       "  line-height: 1.2em;\n",
       "}\n",
       "\n",
       "#sk-container-id-3 div.sk-label-container {\n",
       "  text-align: center;\n",
       "}\n",
       "\n",
       "/* Estimator-specific */\n",
       "#sk-container-id-3 div.sk-estimator {\n",
       "  font-family: monospace;\n",
       "  border: 1px dotted var(--sklearn-color-border-box);\n",
       "  border-radius: 0.25em;\n",
       "  box-sizing: border-box;\n",
       "  margin-bottom: 0.5em;\n",
       "  /* unfitted */\n",
       "  background-color: var(--sklearn-color-unfitted-level-0);\n",
       "}\n",
       "\n",
       "#sk-container-id-3 div.sk-estimator.fitted {\n",
       "  /* fitted */\n",
       "  background-color: var(--sklearn-color-fitted-level-0);\n",
       "}\n",
       "\n",
       "/* on hover */\n",
       "#sk-container-id-3 div.sk-estimator:hover {\n",
       "  /* unfitted */\n",
       "  background-color: var(--sklearn-color-unfitted-level-2);\n",
       "}\n",
       "\n",
       "#sk-container-id-3 div.sk-estimator.fitted:hover {\n",
       "  /* fitted */\n",
       "  background-color: var(--sklearn-color-fitted-level-2);\n",
       "}\n",
       "\n",
       "/* Specification for estimator info (e.g. \"i\" and \"?\") */\n",
       "\n",
       "/* Common style for \"i\" and \"?\" */\n",
       "\n",
       ".sk-estimator-doc-link,\n",
       "a:link.sk-estimator-doc-link,\n",
       "a:visited.sk-estimator-doc-link {\n",
       "  float: right;\n",
       "  font-size: smaller;\n",
       "  line-height: 1em;\n",
       "  font-family: monospace;\n",
       "  background-color: var(--sklearn-color-background);\n",
       "  border-radius: 1em;\n",
       "  height: 1em;\n",
       "  width: 1em;\n",
       "  text-decoration: none !important;\n",
       "  margin-left: 1ex;\n",
       "  /* unfitted */\n",
       "  border: var(--sklearn-color-unfitted-level-1) 1pt solid;\n",
       "  color: var(--sklearn-color-unfitted-level-1);\n",
       "}\n",
       "\n",
       ".sk-estimator-doc-link.fitted,\n",
       "a:link.sk-estimator-doc-link.fitted,\n",
       "a:visited.sk-estimator-doc-link.fitted {\n",
       "  /* fitted */\n",
       "  border: var(--sklearn-color-fitted-level-1) 1pt solid;\n",
       "  color: var(--sklearn-color-fitted-level-1);\n",
       "}\n",
       "\n",
       "/* On hover */\n",
       "div.sk-estimator:hover .sk-estimator-doc-link:hover,\n",
       ".sk-estimator-doc-link:hover,\n",
       "div.sk-label-container:hover .sk-estimator-doc-link:hover,\n",
       ".sk-estimator-doc-link:hover {\n",
       "  /* unfitted */\n",
       "  background-color: var(--sklearn-color-unfitted-level-3);\n",
       "  color: var(--sklearn-color-background);\n",
       "  text-decoration: none;\n",
       "}\n",
       "\n",
       "div.sk-estimator.fitted:hover .sk-estimator-doc-link.fitted:hover,\n",
       ".sk-estimator-doc-link.fitted:hover,\n",
       "div.sk-label-container:hover .sk-estimator-doc-link.fitted:hover,\n",
       ".sk-estimator-doc-link.fitted:hover {\n",
       "  /* fitted */\n",
       "  background-color: var(--sklearn-color-fitted-level-3);\n",
       "  color: var(--sklearn-color-background);\n",
       "  text-decoration: none;\n",
       "}\n",
       "\n",
       "/* Span, style for the box shown on hovering the info icon */\n",
       ".sk-estimator-doc-link span {\n",
       "  display: none;\n",
       "  z-index: 9999;\n",
       "  position: relative;\n",
       "  font-weight: normal;\n",
       "  right: .2ex;\n",
       "  padding: .5ex;\n",
       "  margin: .5ex;\n",
       "  width: min-content;\n",
       "  min-width: 20ex;\n",
       "  max-width: 50ex;\n",
       "  color: var(--sklearn-color-text);\n",
       "  box-shadow: 2pt 2pt 4pt #999;\n",
       "  /* unfitted */\n",
       "  background: var(--sklearn-color-unfitted-level-0);\n",
       "  border: .5pt solid var(--sklearn-color-unfitted-level-3);\n",
       "}\n",
       "\n",
       ".sk-estimator-doc-link.fitted span {\n",
       "  /* fitted */\n",
       "  background: var(--sklearn-color-fitted-level-0);\n",
       "  border: var(--sklearn-color-fitted-level-3);\n",
       "}\n",
       "\n",
       ".sk-estimator-doc-link:hover span {\n",
       "  display: block;\n",
       "}\n",
       "\n",
       "/* \"?\"-specific style due to the `<a>` HTML tag */\n",
       "\n",
       "#sk-container-id-3 a.estimator_doc_link {\n",
       "  float: right;\n",
       "  font-size: 1rem;\n",
       "  line-height: 1em;\n",
       "  font-family: monospace;\n",
       "  background-color: var(--sklearn-color-background);\n",
       "  border-radius: 1rem;\n",
       "  height: 1rem;\n",
       "  width: 1rem;\n",
       "  text-decoration: none;\n",
       "  /* unfitted */\n",
       "  color: var(--sklearn-color-unfitted-level-1);\n",
       "  border: var(--sklearn-color-unfitted-level-1) 1pt solid;\n",
       "}\n",
       "\n",
       "#sk-container-id-3 a.estimator_doc_link.fitted {\n",
       "  /* fitted */\n",
       "  border: var(--sklearn-color-fitted-level-1) 1pt solid;\n",
       "  color: var(--sklearn-color-fitted-level-1);\n",
       "}\n",
       "\n",
       "/* On hover */\n",
       "#sk-container-id-3 a.estimator_doc_link:hover {\n",
       "  /* unfitted */\n",
       "  background-color: var(--sklearn-color-unfitted-level-3);\n",
       "  color: var(--sklearn-color-background);\n",
       "  text-decoration: none;\n",
       "}\n",
       "\n",
       "#sk-container-id-3 a.estimator_doc_link.fitted:hover {\n",
       "  /* fitted */\n",
       "  background-color: var(--sklearn-color-fitted-level-3);\n",
       "}\n",
       "</style><div id=\"sk-container-id-3\" class=\"sk-top-container\"><div class=\"sk-text-repr-fallback\"><pre>SVC(C=0.1, degree=4, kernel=&#x27;poly&#x27;)</pre><b>In a Jupyter environment, please rerun this cell to show the HTML representation or trust the notebook. <br />On GitHub, the HTML representation is unable to render, please try loading this page with nbviewer.org.</b></div><div class=\"sk-container\" hidden><div class=\"sk-item\"><div class=\"sk-estimator fitted sk-toggleable\"><input class=\"sk-toggleable__control sk-hidden--visually\" id=\"sk-estimator-id-3\" type=\"checkbox\" checked><label for=\"sk-estimator-id-3\" class=\"sk-toggleable__label fitted sk-toggleable__label-arrow fitted\">&nbsp;&nbsp;SVC<a class=\"sk-estimator-doc-link fitted\" rel=\"noreferrer\" target=\"_blank\" href=\"https://scikit-learn.org/1.5/modules/generated/sklearn.svm.SVC.html\">?<span>Documentation for SVC</span></a><span class=\"sk-estimator-doc-link fitted\">i<span>Fitted</span></span></label><div class=\"sk-toggleable__content fitted\"><pre>SVC(C=0.1, degree=4, kernel=&#x27;poly&#x27;)</pre></div> </div></div></div></div>"
      ],
      "text/plain": [
       "SVC(C=0.1, degree=4, kernel='poly')"
      ]
     },
     "execution_count": 24,
     "metadata": {},
     "output_type": "execute_result"
    }
   ],
   "source": [
    "best_poly_svm = grid.best_estimator_\n",
    "#fit the optimal linear model on training data\n",
    "best_poly_svm.fit(X_train,y_train)"
   ]
  },
  {
   "cell_type": "code",
   "execution_count": null,
   "id": "82686717",
   "metadata": {},
   "outputs": [
    {
     "data": {
      "text/html": [
       "<div>\n",
       "<style scoped>\n",
       "    .dataframe tbody tr th:only-of-type {\n",
       "        vertical-align: middle;\n",
       "    }\n",
       "\n",
       "    .dataframe tbody tr th {\n",
       "        vertical-align: top;\n",
       "    }\n",
       "\n",
       "    .dataframe thead th {\n",
       "        text-align: right;\n",
       "    }\n",
       "</style>\n",
       "<table border=\"1\" class=\"dataframe\">\n",
       "  <thead>\n",
       "    <tr style=\"text-align: right;\">\n",
       "      <th>Truth</th>\n",
       "      <th>-1</th>\n",
       "      <th>1</th>\n",
       "    </tr>\n",
       "    <tr>\n",
       "      <th>Predicted</th>\n",
       "      <th></th>\n",
       "      <th></th>\n",
       "    </tr>\n",
       "  </thead>\n",
       "  <tbody>\n",
       "    <tr>\n",
       "      <th>-1</th>\n",
       "      <td>16</td>\n",
       "      <td>1</td>\n",
       "    </tr>\n",
       "    <tr>\n",
       "      <th>1</th>\n",
       "      <td>8</td>\n",
       "      <td>15</td>\n",
       "    </tr>\n",
       "  </tbody>\n",
       "</table>\n",
       "</div>"
      ],
      "text/plain": [
       "Truth      -1   1\n",
       "Predicted        \n",
       "-1         16   1\n",
       " 1          8  15"
      ]
     },
     "execution_count": 25,
     "metadata": {},
     "output_type": "execute_result"
    }
   ],
   "source": [
    "ypred_poly = best_poly_svm.predict(X_test)\n",
    "confusion_table(ypred_poly, y_test)"
   ]
  },
  {
   "cell_type": "code",
   "execution_count": null,
   "id": "fbbcf340",
   "metadata": {},
   "outputs": [
    {
     "data": {
      "text/plain": [
       "0.775"
      ]
     },
     "execution_count": 26,
     "metadata": {},
     "output_type": "execute_result"
    }
   ],
   "source": [
    "(ypred_poly == y_test).mean()"
   ]
  },
  {
   "cell_type": "markdown",
   "id": "707de997",
   "metadata": {},
   "source": [
    "Given the high dimensionality of gene expression data, a linear decision boundary is generally expected to perform best, as complex kernels may introduce unnecessary variance. Nonetheless, the polynomial SVM achieved a cross-validation accuracy of 0.7, which, although lower than the 0.86 obtained with the linear kernel, is still relatively high. This suggests that the polynomial kernel was able to capture some underlying structure in the data, though it did not provide a significant advantage over the simpler linear model. These results reinforce the suitability of the linear kernel for this classification problem."
   ]
  },
  {
   "cell_type": "markdown",
   "id": "9f62a26b",
   "metadata": {},
   "source": [
    "#  Gene selection"
   ]
  },
  {
   "cell_type": "markdown",
   "id": "31166f08",
   "metadata": {},
   "source": [
    "In gene expression analysis, it is common practice to filter out genes with low variability, as they often contribute little to the discrimination between classes and may introduce noise into the model. To enhance signal-to-noise ratio and focus on the most informative features, we selected only the top 5% most variable genes based on their standard deviation across samples. This filtering step significantly reduces the dimensionality of the data while retaining the genes most likely to carry meaningful biological or predictive information. We then repeated the analyses from the previous section using this reduced dataset to evaluate the impact of variability-based gene selection on model performance."
   ]
  },
  {
   "cell_type": "code",
   "execution_count": null,
   "id": "433d8f23",
   "metadata": {},
   "outputs": [
    {
     "data": {
      "text/plain": [
       "(79, 100)"
      ]
     },
     "execution_count": 27,
     "metadata": {},
     "output_type": "execute_result"
    }
   ],
   "source": [
    "gene_std = X.std(axis=0) #calculate the standard deviation of each gene (column-wise)\n",
    "threshold = np.percentile(gene_std, 95) #compute the threshold corresponding to the 95th percentile of gene variability\n",
    "top_genes = gene_std[gene_std >= threshold].index #select the genes whose standard deviation is greater than or equal to the threshold\n",
    "X_filtered = X[top_genes] #filter the original dataset to keep only the most variable genes (top 5%)\n",
    "X_filtered.shape"
   ]
  },
  {
   "cell_type": "markdown",
   "id": "99f1e1f6",
   "metadata": {},
   "source": [
    "We proceeded exactly as before: first, we performed a manual split of the dataset into training and test sets. Then, we initialized the SVM models with placeholder hyperparameter values before applying cross-validation to identify the optimal parameters for each kernel."
   ]
  },
  {
   "cell_type": "code",
   "execution_count": null,
   "id": "84fea29c",
   "metadata": {},
   "outputs": [
    {
     "data": {
      "text/plain": [
       "y\n",
       " 1    21\n",
       "-1    18\n",
       "Name: count, dtype: int64"
      ]
     },
     "execution_count": 44,
     "metadata": {},
     "output_type": "execute_result"
    }
   ],
   "source": [
    "#manual split of filtered training and test set using skm\n",
    "X_train_f, X_test_f, y_train_f, y_test_f = skm.train_test_split(X_filtered, y, test_size=0.5, random_state=0)\n",
    "y_train.value_counts()"
   ]
  },
  {
   "cell_type": "markdown",
   "id": "f438b978",
   "metadata": {},
   "source": [
    "## Linear SVM"
   ]
  },
  {
   "cell_type": "code",
   "execution_count": null,
   "id": "23b310aa",
   "metadata": {},
   "outputs": [
    {
     "name": "stdout",
     "output_type": "stream",
     "text": [
      "Optimal linear model:  SVC(C=0.01, kernel='linear')\n",
      "Accuracy of optimal model:  0.8339285714285714\n"
     ]
    }
   ],
   "source": [
    "#DA TOGLIERE\n",
    "svm_linear_filtered = SVC(C=10, kernel=\"linear\")\n",
    "#to train you have to call the method fit on the object\n",
    "svm_linear_filtered.fit(X_train_f,y_train_f)\n",
    "#Hyperparameter tuning\n",
    "C_values = [0.001, 0.01, 0.1, 1, 5, 10, 100]\n",
    "#create a five folds cross validation object (or splitter in sklearn)\n",
    "kfold = skm.KFold(10, random_state=0, shuffle=True)\n",
    "#create the gridsearch\n",
    "grid = skm.GridSearchCV(svm_linear_filtered,\n",
    "                        {\"C\": C_values},\n",
    "                        cv=kfold,\n",
    "                        scoring=\"accuracy\") #scoring = how to measure the performance to pick the best one\n",
    "grid.fit(X_filtered,y)\n",
    "#access the best parameter combination\n",
    "print(\"Optimal linear model: \", grid.best_estimator_)\n",
    "print(\"Cross-validation accuracy of optimal model: \", grid.best_score_)"
   ]
  },
  {
   "cell_type": "markdown",
   "id": "5b8fa2ab",
   "metadata": {},
   "source": [
    "After filtering the dataset, we observe a slight decrease in classification accuracy (from 0.86 to 0.83). This suggests that while filtering helps reduce noise and dimensionality, it may also exclude some informative features.\\\n",
    "However, the optimal regularization parameter C decreased from 0.1 to 0.01, indicating that the reduced gene set led to a cleaner, more easily separable feature space."
   ]
  },
  {
   "cell_type": "code",
   "execution_count": null,
   "id": "934ca9ac",
   "metadata": {},
   "outputs": [
    {
     "data": {
      "text/html": [
       "<div>\n",
       "<style scoped>\n",
       "    .dataframe tbody tr th:only-of-type {\n",
       "        vertical-align: middle;\n",
       "    }\n",
       "\n",
       "    .dataframe tbody tr th {\n",
       "        vertical-align: top;\n",
       "    }\n",
       "\n",
       "    .dataframe thead th {\n",
       "        text-align: right;\n",
       "    }\n",
       "</style>\n",
       "<table border=\"1\" class=\"dataframe\">\n",
       "  <thead>\n",
       "    <tr style=\"text-align: right;\">\n",
       "      <th>Truth</th>\n",
       "      <th>-1</th>\n",
       "      <th>1</th>\n",
       "    </tr>\n",
       "    <tr>\n",
       "      <th>Predicted</th>\n",
       "      <th></th>\n",
       "      <th></th>\n",
       "    </tr>\n",
       "  </thead>\n",
       "  <tbody>\n",
       "    <tr>\n",
       "      <th>-1</th>\n",
       "      <td>17</td>\n",
       "      <td>0</td>\n",
       "    </tr>\n",
       "    <tr>\n",
       "      <th>1</th>\n",
       "      <td>7</td>\n",
       "      <td>16</td>\n",
       "    </tr>\n",
       "  </tbody>\n",
       "</table>\n",
       "</div>"
      ],
      "text/plain": [
       "Truth      -1   1\n",
       "Predicted        \n",
       "-1         17   0\n",
       " 1          7  16"
      ]
     },
     "execution_count": 32,
     "metadata": {},
     "output_type": "execute_result"
    }
   ],
   "source": [
    "best_linear_mod_filtered = grid.best_estimator_\n",
    "best_linear_mod_filtered.fit(X_train_f,y_train_f)\n",
    "#prediction linear kernel\n",
    "ypred_linear_filtered = best_linear_mod_filtered.predict(X_test_f)\n",
    "ypred_linear_filtered\n",
    "#confusion matrix\n",
    "confusion_table(ypred_linear_filtered, y_test_f)"
   ]
  },
  {
   "cell_type": "code",
   "execution_count": null,
   "id": "6eee4be3",
   "metadata": {},
   "outputs": [
    {
     "data": {
      "text/plain": [
       "0.825"
      ]
     },
     "execution_count": 33,
     "metadata": {},
     "output_type": "execute_result"
    }
   ],
   "source": [
    "# accuracy\n",
    "(ypred_linear_filtered == y_test_f).mean()"
   ]
  },
  {
   "cell_type": "markdown",
   "id": "33475521",
   "metadata": {},
   "source": [
    "Interestingly, while cross-validation favored the full feature set, in a manual train-test split the filtered dataset achieved higher accuracy. This may reflect the linear SVM’s robustness in high-dimensional spaces when regularization is properly tuned, allowing it to leverage even weakly informative features spread across many genes.\\\n",
    "However, when training on fewer samples, as in a single split, the reduced feature space likely helped avoid overfitting and improved generalization, as the accuracy went from 0.8 to 0.825.\\\n",
    "This can be further highlighted by plotting the ROC curves produced by the linear SVC fitted on the original training set and by the one fitted on the filtered training set."
   ]
  },
  {
   "cell_type": "code",
   "execution_count": null,
   "id": "99a7063b",
   "metadata": {},
   "outputs": [
    {
     "data": {
      "image/png": "[encoded data removed]",
      "text/plain": [
       "<Figure size 400x400 with 1 Axes>"
      ]
     },
     "metadata": {},
     "output_type": "display_data"
    }
   ],
   "source": [
    "roc_curve = RocCurveDisplay.from_estimator  # shorthand\n",
    "fig, ax = plt.subplots(figsize=(4, 4))\n",
    "roc_curve(best_linear_mod, X_test, y_test, name=\"Linear SVM tuned on test set\", ax=ax, color=\"r\")\n",
    "roc_curve(best_linear_mod_filtered, X_test_f, y_test_f, name=\"Linear SVM tuned on filtered test set\", ax=ax, color=\"b\");"
   ]
  },
  {
   "cell_type": "markdown",
   "id": "9d457b5a",
   "metadata": {},
   "source": [
    "## RBF and polynomial SVM"
   ]
  },
  {
   "cell_type": "markdown",
   "id": "d15abcab",
   "metadata": {},
   "source": [
    "An overall increase in performance can be also observed when using RBF annd polynomial kernels."
   ]
  },
  {
   "cell_type": "code",
   "execution_count": null,
   "id": "2b0263a3",
   "metadata": {},
   "outputs": [
    {
     "name": "stdout",
     "output_type": "stream",
     "text": [
      "Optimal rbf model:  SVC(C=0.001, gamma=0.5)\n",
      "Accuracy of optimal model:  0.45583333333333337\n"
     ]
    }
   ],
   "source": [
    "#DA TOGLIERE\n",
    "svm_rbf_filtered = SVC(C=100, gamma=0.5, kernel=\"rbf\")\n",
    "#to train you have to call the method fit on the object\n",
    "svm_rbf_filtered.fit(X_train_f,y_train_f)\n",
    "#Hyperparameter tuning\n",
    "C_values = [0.001, 0.01, 0.1, 1, 5, 10, 100]\n",
    "gamma_range = [0.5, 1, 2, 3, 4]\n",
    "#create a five folds cross validation object (or splitter in sklearn)\n",
    "kfold = skm.KFold(5, random_state=0, shuffle=True)\n",
    "#create the gridsearch\n",
    "grid = skm.GridSearchCV(svm_rbf_filtered,\n",
    "                        {\"C\": C_values, \"gamma\": gamma_range},\n",
    "                        cv=kfold,\n",
    "                        scoring=\"accuracy\") #scoring = how to measure the performance to pick the best one\n",
    "grid.fit(X_filtered,y)\n",
    "#access the best parameter combination\n",
    "print(\"Optimal rbf model: \", grid.best_estimator_)\n",
    "print(\"Cross-validation accuracy of optimal model: \", grid.best_score_)"
   ]
  },
  {
   "cell_type": "code",
   "execution_count": null,
   "id": "711d7c67",
   "metadata": {},
   "outputs": [
    {
     "data": {
      "text/html": [
       "<div>\n",
       "<style scoped>\n",
       "    .dataframe tbody tr th:only-of-type {\n",
       "        vertical-align: middle;\n",
       "    }\n",
       "\n",
       "    .dataframe tbody tr th {\n",
       "        vertical-align: top;\n",
       "    }\n",
       "\n",
       "    .dataframe thead th {\n",
       "        text-align: right;\n",
       "    }\n",
       "</style>\n",
       "<table border=\"1\" class=\"dataframe\">\n",
       "  <thead>\n",
       "    <tr style=\"text-align: right;\">\n",
       "      <th>Truth</th>\n",
       "      <th>-1</th>\n",
       "      <th>1</th>\n",
       "    </tr>\n",
       "    <tr>\n",
       "      <th>Predicted</th>\n",
       "      <th></th>\n",
       "      <th></th>\n",
       "    </tr>\n",
       "  </thead>\n",
       "  <tbody>\n",
       "    <tr>\n",
       "      <th>-1</th>\n",
       "      <td>0</td>\n",
       "      <td>0</td>\n",
       "    </tr>\n",
       "    <tr>\n",
       "      <th>1</th>\n",
       "      <td>24</td>\n",
       "      <td>16</td>\n",
       "    </tr>\n",
       "  </tbody>\n",
       "</table>\n",
       "</div>"
      ],
      "text/plain": [
       "Truth      -1   1\n",
       "Predicted        \n",
       "-1          0   0\n",
       " 1         24  16"
      ]
     },
     "execution_count": 36,
     "metadata": {},
     "output_type": "execute_result"
    }
   ],
   "source": [
    "best_rbf_svm_filtered = grid.best_estimator_\n",
    "best_rbf_svm_filtered.fit(X_train_f,y_train_f)\n",
    "#prediction rbf kernel\n",
    "ypred_rbf_filtered = best_rbf_svm_filtered.predict(X_test_f)\n",
    "ypred_rbf_filtered\n",
    "#confusion matrix\n",
    "confusion_table(ypred_rbf_filtered, y_test_f)"
   ]
  },
  {
   "cell_type": "code",
   "execution_count": null,
   "id": "eb7386d7",
   "metadata": {},
   "outputs": [
    {
     "data": {
      "text/plain": [
       "0.4"
      ]
     },
     "execution_count": 37,
     "metadata": {},
     "output_type": "execute_result"
    }
   ],
   "source": [
    "# accuracy\n",
    "(ypred_rbf_filtered == y_test_f).mean()"
   ]
  },
  {
   "cell_type": "code",
   "execution_count": null,
   "id": "9e7ac5e9",
   "metadata": {},
   "outputs": [
    {
     "data": {
      "image/png": "[encoded data removed]",
      "text/plain": [
       "<Figure size 400x400 with 1 Axes>"
      ]
     },
     "metadata": {},
     "output_type": "display_data"
    }
   ],
   "source": [
    "fig, ax = plt.subplots(figsize=(4, 4))\n",
    "roc_curve(best_rbf_svm, X_test, y_test, name=\"Radial SVM tuned on test set\", ax=ax, color=\"r\")\n",
    "roc_curve(best_rbf_svm_filtered, X_test_f, y_test_f, name=\"Radial SVM tuned on filtered test set\", ax=ax, color=\"b\");"
   ]
  },
  {
   "cell_type": "code",
   "execution_count": null,
   "id": "d37cd53c",
   "metadata": {},
   "outputs": [
    {
     "name": "stdout",
     "output_type": "stream",
     "text": [
      "Optimal polynomial model:  SVC(C=0.1, degree=2, kernel='poly')\n",
      "Accuracy of optimal model:  0.8208333333333334\n"
     ]
    }
   ],
   "source": [
    "#DA TOGLIERE\n",
    "svm_poly_filtered = SVC(C=100, degree=2, kernel=\"poly\")\n",
    "#to train you have to call the method fit on the object\n",
    "svm_poly_filtered.fit(X_train_f,y_train_f)\n",
    "#Hyperparameter tuning\n",
    "C_values = [0.001, 0.01, 0.1, 1, 5, 10, 100]\n",
    "degree_range = [1, 2, 3, 4]\n",
    "#create a five folds cross validation object (or splitter in sklearn)\n",
    "kfold = skm.KFold(5, random_state=0, shuffle=True)\n",
    "#create the gridsearch\n",
    "grid = skm.GridSearchCV(svm_poly_filtered,\n",
    "                        {\"C\": C_values, \"degree\": degree_range},\n",
    "                        cv=kfold,\n",
    "                        scoring=\"accuracy\") #scoring = how to measure the performance to pick the best one\n",
    "grid.fit(X_filtered,y)\n",
    "#access the best parameter combination\n",
    "print(\"Optimal polynomial model: \", grid.best_estimator_)\n",
    "print(\"Cross-validation accuracy of optimal model: \", grid.best_score_)"
   ]
  },
  {
   "cell_type": "code",
   "execution_count": null,
   "id": "cf040755",
   "metadata": {},
   "outputs": [
    {
     "data": {
      "text/html": [
       "<div>\n",
       "<style scoped>\n",
       "    .dataframe tbody tr th:only-of-type {\n",
       "        vertical-align: middle;\n",
       "    }\n",
       "\n",
       "    .dataframe tbody tr th {\n",
       "        vertical-align: top;\n",
       "    }\n",
       "\n",
       "    .dataframe thead th {\n",
       "        text-align: right;\n",
       "    }\n",
       "</style>\n",
       "<table border=\"1\" class=\"dataframe\">\n",
       "  <thead>\n",
       "    <tr style=\"text-align: right;\">\n",
       "      <th>Truth</th>\n",
       "      <th>-1</th>\n",
       "      <th>1</th>\n",
       "    </tr>\n",
       "    <tr>\n",
       "      <th>Predicted</th>\n",
       "      <th></th>\n",
       "      <th></th>\n",
       "    </tr>\n",
       "  </thead>\n",
       "  <tbody>\n",
       "    <tr>\n",
       "      <th>-1</th>\n",
       "      <td>17</td>\n",
       "      <td>0</td>\n",
       "    </tr>\n",
       "    <tr>\n",
       "      <th>1</th>\n",
       "      <td>7</td>\n",
       "      <td>16</td>\n",
       "    </tr>\n",
       "  </tbody>\n",
       "</table>\n",
       "</div>"
      ],
      "text/plain": [
       "Truth      -1   1\n",
       "Predicted        \n",
       "-1         17   0\n",
       " 1          7  16"
      ]
     },
     "execution_count": 40,
     "metadata": {},
     "output_type": "execute_result"
    }
   ],
   "source": [
    "best_poly_svm_filtered = grid.best_estimator_\n",
    "best_poly_svm_filtered.fit(X_train_f,y_train_f)\n",
    "#prediction linear kernel\n",
    "ypred_poly_filtered = best_poly_svm_filtered.predict(X_test_f)\n",
    "ypred_poly_filtered\n",
    "#confusion matrix\n",
    "confusion_table(ypred_poly_filtered, y_test_f)"
   ]
  },
  {
   "cell_type": "code",
   "execution_count": null,
   "id": "254f8cf1",
   "metadata": {},
   "outputs": [
    {
     "data": {
      "text/plain": [
       "0.825"
      ]
     },
     "execution_count": 41,
     "metadata": {},
     "output_type": "execute_result"
    }
   ],
   "source": [
    "# accuracy\n",
    "(ypred_poly_filtered == y_test_f).mean()"
   ]
  },
  {
   "cell_type": "code",
   "execution_count": null,
   "id": "b1339b2d",
   "metadata": {},
   "outputs": [
    {
     "data": {
      "image/png": "[encoded data removed]",
      "text/plain": [
       "<Figure size 400x400 with 1 Axes>"
      ]
     },
     "metadata": {},
     "output_type": "display_data"
    }
   ],
   "source": [
    "fig, ax = plt.subplots(figsize=(4, 4))\n",
    "roc_curve(best_poly_svm, X_test, y_test, name=\"Polynomial SVM tuned on test set\", ax=ax, color=\"r\")\n",
    "roc_curve(best_poly_svm_filtered, X_test_f, y_test_f, name=\"Polynomial SVM tuned on filtered test set\", ax=ax, color=\"b\");"
   ]
  },
  {
   "cell_type": "markdown",
   "id": "7696e283",
   "metadata": {},
   "source": [
    "Again, after this analysis, we can observe how the performance of the polynomial SVM is almost as high as that of the linear one, with the accuracy on the test set being identical.\\\n",
    "The identical AUC values for both the linear and polynomial SVCs on the original and filtered datasets suggest that both models rank positive and negative samples similarly, despite potential differences in classification boundaries."
   ]
  },
  {
   "cell_type": "markdown",
   "id": "0995b4bd",
   "metadata": {},
   "source": [
    "# Conclusion\n",
    "\n",
    "- Draw some conclusions from both the analyses that you have conducted.\n",
    "\n",
    "(quando parli dell'accuratezza alta del poly :) )\n",
    "Between two models with similar performance, simpler is usually better (Occam’s Razor). The linear SVM is not only more interpretable and faster, but also likely to generalize better — especially on small or noisy datasets, which is common in biological data.\\\n",
    " This implies that the polynomial kernel does not significantly change the model’s discriminatory ability compared to the linear kernel in this specific problem. Overall, these results reinforce the idea that a linear decision boundary is sufficient for this classification task, and adding polynomial complexity does not substantially improve discrimination.\n",
    "\n",
    "(quando parli del parametro c della linear svc che è passato dal 0.1 del non filtrato allo 0.01 del filtrato :) ) With fewer noisy or irrelevant genes, a more regularized model (smaller C) was sufficient to achieve good performance, reducing the risk of overfitting. In contrast, the full dataset required a slightly more flexible decision boundary, potentially to compensate for the higher dimensionality and presence of less informative features."
   ]
  }
 ],
 "metadata": {
  "authors": [
   {
    "name": "Sofia Pietrini"
   }
  ],
  "date": "18/05/2025",
  "jupytext": {
   "cell_metadata_filter": "-all",
   "main_language": "python",
   "notebook_metadata_filter": "-all"
  },
  "kernelspec": {
   "display_name": "Python 3",
   "language": "python",
   "name": "python3"
  },
  "language_info": {
   "codemirror_mode": {
    "name": "ipython",
    "version": 3
   },
   "file_extension": ".py",
   "mimetype": "text/x-python",
   "name": "python",
   "nbconvert_exporter": "python",
   "pygments_lexer": "ipython3",
   "version": "3.11.9"
  },
  "title": "Statistical learning: Homework #3"
 },
 "nbformat": 4,
 "nbformat_minor": 5
}
